{
 "cells": [
  {
   "cell_type": "markdown",
   "metadata": {},
   "source": [
    "### Import Libraries"
   ]
  },
  {
   "cell_type": "code",
   "execution_count": 1,
   "metadata": {},
   "outputs": [
    {
     "name": "stdout",
     "output_type": "stream",
     "text": [
      "Requirement already satisfied: rank_bm25 in /Users/tapishgarg/opt/anaconda3/lib/python3.8/site-packages (0.2.1)\n",
      "Requirement already satisfied: numpy in /Users/tapishgarg/opt/anaconda3/lib/python3.8/site-packages (from rank_bm25) (1.19.2)\n",
      "Requirement already satisfied: gensim in /Users/tapishgarg/opt/anaconda3/lib/python3.8/site-packages (4.0.1)\n",
      "Requirement already satisfied: smart-open>=1.8.1 in /Users/tapishgarg/opt/anaconda3/lib/python3.8/site-packages (from gensim) (3.0.0)\n",
      "Requirement already satisfied: numpy>=1.11.3 in /Users/tapishgarg/opt/anaconda3/lib/python3.8/site-packages (from gensim) (1.19.2)\n",
      "Requirement already satisfied: scipy>=0.18.1 in /Users/tapishgarg/opt/anaconda3/lib/python3.8/site-packages (from gensim) (1.5.2)\n",
      "Requirement already satisfied: requests in /Users/tapishgarg/opt/anaconda3/lib/python3.8/site-packages (from smart-open>=1.8.1->gensim) (2.24.0)\n",
      "Requirement already satisfied: idna<3,>=2.5 in /Users/tapishgarg/opt/anaconda3/lib/python3.8/site-packages (from requests->smart-open>=1.8.1->gensim) (2.10)\n",
      "Requirement already satisfied: certifi>=2017.4.17 in /Users/tapishgarg/opt/anaconda3/lib/python3.8/site-packages (from requests->smart-open>=1.8.1->gensim) (2020.6.20)\n",
      "Requirement already satisfied: urllib3!=1.25.0,!=1.25.1,<1.26,>=1.21.1 in /Users/tapishgarg/opt/anaconda3/lib/python3.8/site-packages (from requests->smart-open>=1.8.1->gensim) (1.25.11)\n",
      "Requirement already satisfied: chardet<4,>=3.0.2 in /Users/tapishgarg/opt/anaconda3/lib/python3.8/site-packages (from requests->smart-open>=1.8.1->gensim) (3.0.4)\n"
     ]
    },
    {
     "name": "stderr",
     "output_type": "stream",
     "text": [
      "[nltk_data] Downloading package stopwords to\n",
      "[nltk_data]     /Users/tapishgarg/nltk_data...\n",
      "[nltk_data]   Package stopwords is already up-to-date!\n",
      "[nltk_data] Downloading package averaged_perceptron_tagger to\n",
      "[nltk_data]     /Users/tapishgarg/nltk_data...\n",
      "[nltk_data]   Package averaged_perceptron_tagger is already up-to-\n",
      "[nltk_data]       date!\n",
      "[nltk_data] Downloading package wordnet to\n",
      "[nltk_data]     /Users/tapishgarg/nltk_data...\n",
      "[nltk_data]   Package wordnet is already up-to-date!\n"
     ]
    }
   ],
   "source": [
    "# Common libraries\n",
    "import json\n",
    "import time\n",
    "import matplotlib.pyplot as plt\n",
    "import numpy as np\n",
    "import pandas as pd\n",
    "import re\n",
    "import warnings\n",
    "warnings.filterwarnings(\"ignore\")\n",
    "\n",
    "# Uncommon libraries\n",
    "!pip install rank_bm25\n",
    "!pip install gensim\n",
    "\n",
    "# Plot and table of results at every k\n",
    "from util import Evaluation_metrics, Query_metrics\n",
    "from evaluation import Evaluation\n",
    "\n",
    "from sklearn.decomposition import TruncatedSVD\n",
    "from sklearn.feature_extraction.text import TfidfVectorizer\n",
    "\n",
    "#For spell checker\n",
    "from spellchecker import SpellChecker\n",
    "\n",
    "# For additional corpus\n",
    "import nltk\n",
    "from nltk.corpus import stopwords\n",
    "from nltk.stem import WordNetLemmatizer\n",
    "from nltk.corpus.reader import wordnet\n",
    "from nltk.corpus import wordnet\n",
    "nltk.download('stopwords')\n",
    "nltk.download('averaged_perceptron_tagger')\n",
    "nltk.download('wordnet')\n",
    "\n",
    "# For hypothesis testing\n",
    "from scipy.stats import ttest_ind\n",
    "\n",
    "# For BM25 Model\n",
    "from rank_bm25 import BM25Okapi\n",
    "\n",
    "# using word-2-vec pretrained word embedding\n",
    "from gensim.models import Word2Vec"
   ]
  },
  {
   "cell_type": "markdown",
   "metadata": {},
   "source": [
    "### Import Data\n",
    "Here cranfield data is imported to test different models."
   ]
  },
  {
   "cell_type": "code",
   "execution_count": 2,
   "metadata": {},
   "outputs": [],
   "source": [
    "# Read queries\n",
    "queries_json = json.load(open( \"./cranfield/cran_queries.json\", 'r'))[:]\n",
    "query_ids, queries = [item[\"query number\"] for item in queries_json], [item[\"query\"] for item in queries_json]\n",
    "\n",
    "# Read documents(corpus)\n",
    "docs_json = json.load(open(\"./cranfield/cran_docs.json\", 'r'))[:]\n",
    "doc_ids, docs = [item[\"id\"] for item in docs_json], [item[\"body\"] for item in docs_json]\n",
    "\n",
    "qrels = json.load(open( \"./cranfield/cran_qrels.json\", 'r'))[:]"
   ]
  },
  {
   "cell_type": "markdown",
   "metadata": {},
   "source": [
    "## 1. VSM (Vector Space Model)\n",
    "This model has additional preprocessing techniques like expanding contractions, spellcheck and removing charecters other then alphabets. Vector space model is the first and base model implemented for this project. It is created using tf-idf scores of words in the documents."
   ]
  },
  {
   "cell_type": "markdown",
   "metadata": {},
   "source": [
    "### 1.1 Data Preprocessing"
   ]
  },
  {
   "cell_type": "code",
   "execution_count": 3,
   "metadata": {},
   "outputs": [],
   "source": [
    "# Dictionary of english Contractions\n",
    "contractions_dict = { \"ain't\": \"are not\",\"'s\":\" is\",\"aren't\": \"are not\",\"can't\": \"can not\",\"can't've\": \"cannot have\",\n",
    "\"'cause\": \"because\",\"could've\": \"could have\",\"couldn't\": \"could not\",\"couldn't've\": \"could not have\",\n",
    "\"didn't\": \"did not\",\"doesn't\": \"does not\",\"don't\": \"do not\",\"hadn't\": \"had not\",\"hadn't've\": \"had not have\",\n",
    "\"hasn't\": \"has not\",\"haven't\": \"have not\",\"he'd\": \"he would\",\"he'd've\": \"he would have\",\"he'll\": \"he will\",\n",
    "\"he'll've\": \"he will have\",\"how'd\": \"how did\",\"how'd'y\": \"how do you\",\"how'll\": \"how will\",\"i'd\": \"i would\",\n",
    "\"i'd've\": \"i would have\",\"i'll\": \"i will\",\"i'll've\": \"i will have\",\"i'm\": \"i am\",\"i've\": \"i have\",\n",
    "\"isn't\": \"is not\",\"it'd\": \"it would\",\"it'd've\": \"it would have\",\"it'll\": \"it will\",\"it'll've\": \"it will have\",\n",
    "\"let's\": \"let us\",\"ma'am\": \"madam\",\"mayn't\": \"may not\",\"might've\": \"might have\",\"mightn't\": \"might not\",\n",
    "\"mightn't've\": \"might not have\",\"must've\": \"must have\",\"mustn't\": \"must not\",\"mustn't've\": \"must not have\",\n",
    "\"needn't\": \"need not\",\"needn't've\": \"need not have\",\"o'clock\": \"of the clock\",\"oughtn't\": \"ought not\",\n",
    "\"oughtn't've\": \"ought not have\",\"shan't\": \"shall not\",\"sha'n't\": \"shall not\",\n",
    "\"shan't've\": \"shall not have\",\"she'd\": \"she would\",\"she'd've\": \"she would have\",\"she'll\": \"she will\",\n",
    "\"she'll've\": \"she will have\",\"should've\": \"should have\",\"shouldn't\": \"should not\",\n",
    "\"shouldn't've\": \"should not have\",\"so've\": \"so have\",\"that'd\": \"that would\",\"that'd've\": \"that would have\",\n",
    "\"there'd\": \"there would\",\"there'd've\": \"there would have\",\n",
    "\"they'd\": \"they would\",\"they'd've\": \"they would have\",\"they'll\": \"they will\",\"they'll've\": \"they will have\",\n",
    "\"they're\": \"they are\",\"they've\": \"they have\",\"to've\": \"to have\",\"wasn't\": \"was not\",\"we'd\": \"we would\",\n",
    "\"we'd've\": \"we would have\",\"we'll\": \"we will\",\"we'll've\": \"we will have\",\"we're\": \"we are\",\"we've\": \"we have\",\n",
    "\"weren't\": \"were not\",\"what'll\": \"what will\",\"what'll've\": \"what will have\",\"what're\": \"what are\",\n",
    "\"what've\": \"what have\",\"when've\": \"when have\",\"where'd\": \"where did\",\n",
    "\"where've\": \"where have\",\"who'll\": \"who will\",\"who'll've\": \"who will have\",\"who've\": \"who have\",\n",
    "\"why've\": \"why have\",\"will've\": \"will have\",\"won't\": \"will not\",\"won't've\": \"will not have\",\n",
    "\"would've\": \"would have\",\"wouldn't\": \"would not\",\"wouldn't've\": \"would not have\",\"y'all\": \"you all\",\n",
    "\"y'all'd\": \"you all would\",\"y'all'd've\": \"you all would have\",\"y'all're\": \"you all are\",\"y'all've\": \"you all have\",\n",
    "\"you'd\": \"you would\",\"you'd've\": \"you would have\",\"you'll\": \"you will\",\"you'll've\": \"you will have\",\n",
    "\"you're\": \"you are\",\"you've\": \"you have\"}\n",
    "\n",
    "# Regular expression for finding contractions\n",
    "contractions_re=re.compile('(%s)' % '|'.join(contractions_dict.keys()))"
   ]
  },
  {
   "cell_type": "code",
   "execution_count": 4,
   "metadata": {},
   "outputs": [],
   "source": [
    "# Function for expanding contractions. For example \"needn't\" will become \"need not\".\n",
    "def contractions_rem(text,contractions_dict=contractions_dict):\n",
    "    text=text.lower()\n",
    "    def replace(match):\n",
    "        return contractions_dict[match.group(0)]\n",
    "    return contractions_re.sub(replace, text)\n",
    "\n",
    "# Removing punctuations, special characters and extra spaces\n",
    "def clean_text(text):\n",
    "    text=contractions_rem(text)\n",
    "    text = re.sub(r\"[^a-z]\", \" \", text) # This removes anything other than lower case letters(very imp)\n",
    "    text = re.sub(r\"   \", \" \", text) # Remove any extra spaces\n",
    "    return text\n",
    "\n",
    "# Removing  stopwords\n",
    "STOPWORDS = set(stopwords.words('english'))\n",
    "def remove_stopwords(text):\n",
    "    \"\"\"custom function to remove the stopwords\"\"\"\n",
    "    return \" \".join([word for word in str(text).split() if word not in STOPWORDS])\n",
    "\n",
    "# lemmatization to reduce words to their baseform.\n",
    "def lemmatize_words(text):\n",
    "    lemmatizer = WordNetLemmatizer()\n",
    "    return \" \".join([lemmatizer.lemmatize(word) for word in text.split()])\n",
    "\n",
    "# Norvig spell checker based on the levenshtein distance\n",
    "def spell_check(text):\n",
    "    spell = SpellChecker()\n",
    "    output=''\n",
    "    text=text.split(\" \")\n",
    "    for word in text:\n",
    "        output+=spell.correction(word)\n",
    "        output+=' '\n",
    "    return output[:-1]"
   ]
  },
  {
   "cell_type": "code",
   "execution_count": 5,
   "metadata": {},
   "outputs": [],
   "source": [
    "# Construction of data frame which contains text and preprocessed text\n",
    "query_df = pd.DataFrame(queries,columns = ['query'])\n",
    "docs_df = pd.DataFrame(docs_json).drop(['author','bibliography','id','title'],axis=1)\n",
    "\n",
    "# Cleaning text of docs and queries\n",
    "docs_df['preprocessed'] = docs_df['body'].apply(lambda text: clean_text(text))\n",
    "query_df['preprocessed'] = query_df['query'].apply(lambda text: clean_text(text))\n",
    "\n",
    "# Stopword removal from docs and queries\n",
    "docs_df['preprocessed'] = docs_df['preprocessed'].apply(lambda text: remove_stopwords(text))\n",
    "query_df['preprocessed'] = query_df['preprocessed'].apply(lambda text: remove_stopwords(text))\n",
    "\n",
    "# Spellcheck only on queries\n",
    "query_df['preprocessed'] = query_df['preprocessed'].apply(lambda text: spell_check(text))\n",
    "\n",
    "# Lemmatization on docs and queries\n",
    "docs_df['preprocessed'] = docs_df['preprocessed'].apply(lambda text: lemmatize_words(text))\n",
    "query_df['preprocessed'] = query_df['preprocessed'].apply(lambda text: lemmatize_words(text))"
   ]
  },
  {
   "cell_type": "code",
   "execution_count": 6,
   "metadata": {},
   "outputs": [
    {
     "data": {
      "text/html": [
       "<div>\n",
       "<style scoped>\n",
       "    .dataframe tbody tr th:only-of-type {\n",
       "        vertical-align: middle;\n",
       "    }\n",
       "\n",
       "    .dataframe tbody tr th {\n",
       "        vertical-align: top;\n",
       "    }\n",
       "\n",
       "    .dataframe thead th {\n",
       "        text-align: right;\n",
       "    }\n",
       "</style>\n",
       "<table border=\"1\" class=\"dataframe\">\n",
       "  <thead>\n",
       "    <tr style=\"text-align: right;\">\n",
       "      <th></th>\n",
       "      <th>body</th>\n",
       "      <th>preprocessed</th>\n",
       "    </tr>\n",
       "  </thead>\n",
       "  <tbody>\n",
       "    <tr>\n",
       "      <th>0</th>\n",
       "      <td>experimental investigation of the aerodynamics...</td>\n",
       "      <td>experimental investigation aerodynamics wing s...</td>\n",
       "    </tr>\n",
       "    <tr>\n",
       "      <th>1</th>\n",
       "      <td>simple shear flow past a flat plate in an inco...</td>\n",
       "      <td>simple shear flow past flat plate incompressib...</td>\n",
       "    </tr>\n",
       "    <tr>\n",
       "      <th>2</th>\n",
       "      <td>the boundary layer in simple shear flow past a...</td>\n",
       "      <td>boundary layer simple shear flow past flat pla...</td>\n",
       "    </tr>\n",
       "    <tr>\n",
       "      <th>3</th>\n",
       "      <td>approximate solutions of the incompressible la...</td>\n",
       "      <td>approximate solution incompressible laminar bo...</td>\n",
       "    </tr>\n",
       "    <tr>\n",
       "      <th>4</th>\n",
       "      <td>one-dimensional transient heat conduction into...</td>\n",
       "      <td>one dimensional transient heat conduction doub...</td>\n",
       "    </tr>\n",
       "  </tbody>\n",
       "</table>\n",
       "</div>"
      ],
      "text/plain": [
       "                                                body  \\\n",
       "0  experimental investigation of the aerodynamics...   \n",
       "1  simple shear flow past a flat plate in an inco...   \n",
       "2  the boundary layer in simple shear flow past a...   \n",
       "3  approximate solutions of the incompressible la...   \n",
       "4  one-dimensional transient heat conduction into...   \n",
       "\n",
       "                                        preprocessed  \n",
       "0  experimental investigation aerodynamics wing s...  \n",
       "1  simple shear flow past flat plate incompressib...  \n",
       "2  boundary layer simple shear flow past flat pla...  \n",
       "3  approximate solution incompressible laminar bo...  \n",
       "4  one dimensional transient heat conduction doub...  "
      ]
     },
     "execution_count": 6,
     "metadata": {},
     "output_type": "execute_result"
    }
   ],
   "source": [
    "docs_df.head()"
   ]
  },
  {
   "cell_type": "code",
   "execution_count": 7,
   "metadata": {},
   "outputs": [
    {
     "data": {
      "text/html": [
       "<div>\n",
       "<style scoped>\n",
       "    .dataframe tbody tr th:only-of-type {\n",
       "        vertical-align: middle;\n",
       "    }\n",
       "\n",
       "    .dataframe tbody tr th {\n",
       "        vertical-align: top;\n",
       "    }\n",
       "\n",
       "    .dataframe thead th {\n",
       "        text-align: right;\n",
       "    }\n",
       "</style>\n",
       "<table border=\"1\" class=\"dataframe\">\n",
       "  <thead>\n",
       "    <tr style=\"text-align: right;\">\n",
       "      <th></th>\n",
       "      <th>query</th>\n",
       "      <th>preprocessed</th>\n",
       "    </tr>\n",
       "  </thead>\n",
       "  <tbody>\n",
       "    <tr>\n",
       "      <th>0</th>\n",
       "      <td>what similarity laws must be obeyed when const...</td>\n",
       "      <td>similarity law must obeyed constructing aeroel...</td>\n",
       "    </tr>\n",
       "    <tr>\n",
       "      <th>1</th>\n",
       "      <td>what are the structural and aeroelastic proble...</td>\n",
       "      <td>structural aeroelastic problem associated flig...</td>\n",
       "    </tr>\n",
       "    <tr>\n",
       "      <th>2</th>\n",
       "      <td>what problems of heat conduction in composite ...</td>\n",
       "      <td>problem heat conduction composite slab solved far</td>\n",
       "    </tr>\n",
       "    <tr>\n",
       "      <th>3</th>\n",
       "      <td>can a criterion be developed to show empirical...</td>\n",
       "      <td>criterion developed show empirically validity ...</td>\n",
       "    </tr>\n",
       "    <tr>\n",
       "      <th>4</th>\n",
       "      <td>what chemical kinetic system is applicable to ...</td>\n",
       "      <td>chemical kinetic system applicable hypersonic ...</td>\n",
       "    </tr>\n",
       "  </tbody>\n",
       "</table>\n",
       "</div>"
      ],
      "text/plain": [
       "                                               query  \\\n",
       "0  what similarity laws must be obeyed when const...   \n",
       "1  what are the structural and aeroelastic proble...   \n",
       "2  what problems of heat conduction in composite ...   \n",
       "3  can a criterion be developed to show empirical...   \n",
       "4  what chemical kinetic system is applicable to ...   \n",
       "\n",
       "                                        preprocessed  \n",
       "0  similarity law must obeyed constructing aeroel...  \n",
       "1  structural aeroelastic problem associated flig...  \n",
       "2  problem heat conduction composite slab solved far  \n",
       "3  criterion developed show empirically validity ...  \n",
       "4  chemical kinetic system applicable hypersonic ...  "
      ]
     },
     "execution_count": 7,
     "metadata": {},
     "output_type": "execute_result"
    }
   ],
   "source": [
    "query_df.head()"
   ]
  },
  {
   "cell_type": "markdown",
   "metadata": {},
   "source": [
    "### 1.2 Creating Corpus"
   ]
  },
  {
   "cell_type": "code",
   "execution_count": 8,
   "metadata": {},
   "outputs": [],
   "source": [
    "# Make a corpus by combining the documents and queries\n",
    "corpus = docs_df['preprocessed'].tolist() + query_df['preprocessed'].tolist()"
   ]
  },
  {
   "cell_type": "markdown",
   "metadata": {},
   "source": [
    "### 1.3 Tfidf Representation"
   ]
  },
  {
   "cell_type": "code",
   "execution_count": 9,
   "metadata": {},
   "outputs": [
    {
     "name": "stdout",
     "output_type": "stream",
     "text": [
      "Corpus Length is 1625 and Vocabulary size is 6135\n"
     ]
    }
   ],
   "source": [
    "unigram_vectorizer = TfidfVectorizer()\n",
    "uni_vec = unigram_vectorizer.fit_transform(corpus)\n",
    "print(\"Corpus Length is {} and Vocabulary size is {}\".format(uni_vec.shape[0],uni_vec.shape[1]))\n",
    "\n",
    "feature_names = unigram_vectorizer.get_feature_names()\n",
    "columns = ['Doc_' + str(i) for i in range(1, uni_vec.shape[0]+1)]"
   ]
  },
  {
   "cell_type": "code",
   "execution_count": 10,
   "metadata": {},
   "outputs": [],
   "source": [
    "tfidf_df = pd.DataFrame(uni_vec.T.todense(), index=feature_names, columns=columns)"
   ]
  },
  {
   "cell_type": "code",
   "execution_count": 11,
   "metadata": {},
   "outputs": [],
   "source": [
    "# documents tfidf representation \n",
    "tfidf_docs_vsm = tfidf_df[columns[:len(docs_df)]].values"
   ]
  },
  {
   "cell_type": "code",
   "execution_count": 12,
   "metadata": {},
   "outputs": [],
   "source": [
    "# queries tfidf representation\n",
    "tfidf_queries_vsm = tfidf_df[columns[len(docs_df):]].values"
   ]
  },
  {
   "cell_type": "markdown",
   "metadata": {},
   "source": [
    "### 1.4 Ranking"
   ]
  },
  {
   "cell_type": "code",
   "execution_count": 13,
   "metadata": {},
   "outputs": [],
   "source": [
    "# Calculate cosine similarity between documents and queries and order accordingly \n",
    "cosine_sim_vsm = np.matmul(tfidf_docs_vsm.T, tfidf_queries_vsm)\n",
    "doc_ordered_vsm = (np.argsort(cosine_sim_vsm,axis=0)+1)[::-1].T.tolist()"
   ]
  },
  {
   "cell_type": "markdown",
   "metadata": {},
   "source": [
    "### 1.5 Evaluation"
   ]
  },
  {
   "cell_type": "code",
   "execution_count": 14,
   "metadata": {},
   "outputs": [
    {
     "name": "stdout",
     "output_type": "stream",
     "text": [
      "Precision, Recall and F-score @ 1 : 0.6711111111111111, 0.11566670900202437, 0.18897909850410538\n",
      "MAP, nDCG @ 1 : 0.6711111111111111, 0.4933333333333332\n",
      "Precision, Recall and F-score @ 2 : 0.5422222222222223, 0.17798361185226072, 0.251381661085937\n",
      "MAP, nDCG @ 2 : 0.7088888888888889, 0.39104356770397214\n",
      "Precision, Recall and F-score @ 3 : 0.4962962962962963, 0.23561657851208054, 0.29697204723172516\n",
      "MAP, nDCG @ 3 : 0.7225925925925929, 0.3784343197020831\n",
      "Precision, Recall and F-score @ 4 : 0.45111111111111113, 0.277244789819467, 0.3176077531258111\n",
      "MAP, nDCG @ 4 : 0.7222222222222222, 0.3777467236340859\n",
      "Precision, Recall and F-score @ 5 : 0.41066666666666696, 0.3056587267798649, 0.3232770749376125\n",
      "MAP, nDCG @ 5 : 0.7145123456790123, 0.3788661219394958\n",
      "Precision, Recall and F-score @ 6 : 0.37629629629629624, 0.3318260453126331, 0.3250152527975097\n",
      "MAP, nDCG @ 6 : 0.7090493827160492, 0.38411052706210147\n",
      "Precision, Recall and F-score @ 7 : 0.35555555555555585, 0.3611882038779908, 0.3301070303145273\n",
      "MAP, nDCG @ 7 : 0.6904218694885356, 0.3914873367489578\n",
      "Precision, Recall and F-score @ 8 : 0.33, 0.37971876155560724, 0.3257056308215453\n",
      "MAP, nDCG @ 8 : 0.6836521541950109, 0.39544927668876395\n",
      "Precision, Recall and F-score @ 9 : 0.30913580246913613, 0.3976334241023861, 0.32088188101192866\n",
      "MAP, nDCG @ 9 : 0.6713684807256233, 0.3992613239621641\n",
      "Precision, Recall and F-score @ 10 : 0.2911111111111114, 0.413117890253519, 0.3156598482931838\n",
      "MAP, nDCG @ 10 : 0.6636742252456533, 0.40249954424981965\n"
     ]
    },
    {
     "data": {
      "image/png": "[encoded data removed]",
      "text/plain": [
       "<Figure size 720x360 with 1 Axes>"
      ]
     },
     "metadata": {
      "needs_background": "light"
     },
     "output_type": "display_data"
    }
   ],
   "source": [
    "# Evaluation of VSM model using precision, recall, f-score, MAP, nDCG for top k retrived documents\n",
    "Evaluation_metrics(doc_ordered_vsm, query_ids, qrels, title_name=\"Vector Space Model Performance\")"
   ]
  },
  {
   "cell_type": "code",
   "execution_count": 15,
   "metadata": {},
   "outputs": [],
   "source": [
    "# Calulating evaluation metrics for each query separately\n",
    "q_precision_vsm, q_recall_vsm, q_fscore_vsm, q_ndcg_vsm, q_average_precision_vsm = Query_metrics(qrels, \n",
    "                                                                                                 doc_ordered_vsm,\n",
    "                                                                                                 queries,\n",
    "                                                                                                 model_name = 'VSM Unigram')\n"
   ]
  },
  {
   "cell_type": "markdown",
   "metadata": {},
   "source": [
    "## 2. VSM (Vector Space Model) with Bigram\n",
    "This model includes bigrams along  with  unigrams  for  constructing  tf-idf  matrix  of  the  pre-processed  text. The  bigram  add  local  word-to-word coherence."
   ]
  },
  {
   "cell_type": "markdown",
   "metadata": {},
   "source": [
    "### 2.1 Tfidf Representation"
   ]
  },
  {
   "cell_type": "code",
   "execution_count": 16,
   "metadata": {},
   "outputs": [
    {
     "name": "stdout",
     "output_type": "stream",
     "text": [
      "Corpus Length is 1625 and Vocabulary size is 82802\n"
     ]
    }
   ],
   "source": [
    "# Bigrams are also added in TfidfVectorizer\n",
    "bigram_vectorizer = TfidfVectorizer(ngram_range=(1,2))\n",
    "bi_vec = bigram_vectorizer.fit_transform(corpus)\n",
    "print(\"Corpus Length is {} and Vocabulary size is {}\".format(bi_vec.shape[0],bi_vec.shape[1]))\n",
    "\n",
    "feature_names = bigram_vectorizer.get_feature_names()\n",
    "columns = ['Doc_' + str(i) for i in range(1,bi_vec.shape[0]+1)]"
   ]
  },
  {
   "cell_type": "code",
   "execution_count": 17,
   "metadata": {},
   "outputs": [],
   "source": [
    "tfidf_df_bi = pd.DataFrame(bi_vec.T.todense(), index=feature_names, columns=columns)"
   ]
  },
  {
   "cell_type": "code",
   "execution_count": 18,
   "metadata": {},
   "outputs": [],
   "source": [
    "# documents bigram tfidf representation \n",
    "tfidf_docs_vsm_bi = tfidf_df_bi[columns[:len(docs_df)]].values"
   ]
  },
  {
   "cell_type": "code",
   "execution_count": 19,
   "metadata": {},
   "outputs": [],
   "source": [
    "# queries bigram tfidf representation\n",
    "tfidf_queries_vsm_bi = tfidf_df_bi[columns[len(docs_df):]].values"
   ]
  },
  {
   "cell_type": "markdown",
   "metadata": {},
   "source": [
    "### 2.2 Ranking"
   ]
  },
  {
   "cell_type": "code",
   "execution_count": 20,
   "metadata": {},
   "outputs": [],
   "source": [
    "# Calculate cosine similarity between documents and queries and order accordingly \n",
    "cosine_sim_vsm_bi = np.matmul(tfidf_docs_vsm_bi.T, tfidf_queries_vsm_bi)\n",
    "doc_ordered_vsm_bi = (np.argsort(cosine_sim_vsm_bi,axis=0)+1)[::-1].T.tolist()"
   ]
  },
  {
   "cell_type": "markdown",
   "metadata": {},
   "source": [
    "### 2.3 Evaluation"
   ]
  },
  {
   "cell_type": "code",
   "execution_count": 21,
   "metadata": {},
   "outputs": [
    {
     "name": "stdout",
     "output_type": "stream",
     "text": [
      "Precision, Recall and F-score @ 1 : 0.6977777777777778, 0.1190588209672832, 0.19530057287436023\n",
      "MAP, nDCG @ 1 : 0.6977777777777778, 0.5259259259259258\n",
      "Precision, Recall and F-score @ 2 : 0.5977777777777777, 0.19626869895107332, 0.27815060727180785\n",
      "MAP, nDCG @ 2 : 0.7466666666666667, 0.42794594913466105\n",
      "Precision, Recall and F-score @ 3 : 0.5170370370370372, 0.2476807203481522, 0.3121411248836935\n",
      "MAP, nDCG @ 3 : 0.7533333333333334, 0.3987110251879714\n",
      "Precision, Recall and F-score @ 4 : 0.45111111111111113, 0.27977952306008264, 0.31988055578045077\n",
      "MAP, nDCG @ 4 : 0.7535802469135802, 0.3920859560826325\n",
      "Precision, Recall and F-score @ 5 : 0.41155555555555584, 0.31289361788730496, 0.3282967783184411\n",
      "MAP, nDCG @ 5 : 0.7348580246913581, 0.3912125594092801\n",
      "Precision, Recall and F-score @ 6 : 0.3748148148148147, 0.33806653756022487, 0.3282214086497372\n",
      "MAP, nDCG @ 6 : 0.7270333333333334, 0.3961931533956107\n",
      "Precision, Recall and F-score @ 7 : 0.35365079365079394, 0.3641851019193678, 0.3305738271825688\n",
      "MAP, nDCG @ 7 : 0.7133998236331569, 0.40302977409465346\n",
      "Precision, Recall and F-score @ 8 : 0.32555555555555554, 0.3792592161255982, 0.3226229567547038\n",
      "MAP, nDCG @ 8 : 0.7061072562358273, 0.40547387048721817\n",
      "Precision, Recall and F-score @ 9 : 0.30222222222222234, 0.39400566285243704, 0.3151165863307725\n",
      "MAP, nDCG @ 9 : 0.6988935878054924, 0.4098667062478878\n",
      "Precision, Recall and F-score @ 10 : 0.28488888888888897, 0.4096210721345131, 0.3103110551455293\n",
      "MAP, nDCG @ 10 : 0.6868137328182301, 0.41416643139959325\n"
     ]
    },
    {
     "data": {
      "image/png": "[encoded data removed]",
      "text/plain": [
       "<Figure size 720x360 with 1 Axes>"
      ]
     },
     "metadata": {
      "needs_background": "light"
     },
     "output_type": "display_data"
    }
   ],
   "source": [
    "# Evaluation of VSM with bigram model using precision, recall, f-score, MAP, nDCG for top k retrived documents\n",
    "Evaluation_metrics(doc_ordered_vsm_bi, query_ids, qrels, title_name=\"Bigram VSM Model Performance\")"
   ]
  },
  {
   "cell_type": "code",
   "execution_count": 22,
   "metadata": {},
   "outputs": [],
   "source": [
    "# Calulating evaluation metrics for each query separately\n",
    "q_precision_vsm_bi, q_recall_vsm_bi, q_fscore_vsm_bi, q_ndcg_vsm_bi, q_average_precision_vsm_bi = Query_metrics(qrels,\n",
    "                                                                                                      doc_ordered_vsm_bi,\n",
    "                                                                                                      queries, \n",
    "                                                                                                      model_name = 'VSM-Bigram')"
   ]
  },
  {
   "cell_type": "markdown",
   "metadata": {},
   "source": [
    "### 2.4 Comparision of VSM and VSM-Bigram Model"
   ]
  },
  {
   "cell_type": "code",
   "execution_count": 23,
   "metadata": {},
   "outputs": [
    {
     "name": "stdout",
     "output_type": "stream",
     "text": [
      "Precision: t = 0.33612746449546294  p = 0.7369321204820392\n",
      "Recall: t = 0.13393490598060698  p = 0.8935141928984222\n",
      "F-score: t = 0.29817206026937065  p = 0.7657100819201412\n",
      "ndcg: t = -0.5069073511762271  p = 0.612469230701515\n",
      "Average_precison: t = -0.7865762341396396  p = 0.43194584739617914\n"
     ]
    }
   ],
   "source": [
    "# T-Test Implementation\n",
    "t,p = ttest_ind(q_precision_vsm, q_precision_vsm_bi)\n",
    "print(\"Precision: t = {0}  p = {1}\".format(t,p))\n",
    "\n",
    "t,p = ttest_ind(q_recall_vsm, q_recall_vsm_bi)\n",
    "print(\"Recall: t = {0}  p = {1}\".format(t,p))\n",
    "\n",
    "t,p = ttest_ind(q_fscore_vsm, q_fscore_vsm_bi)\n",
    "print(\"F-score: t = {0}  p = {1}\".format(t,p))\n",
    "\n",
    "t,p = ttest_ind(q_ndcg_vsm, q_ndcg_vsm_bi)\n",
    "print(\"ndcg: t = {0}  p = {1}\".format(t,p))\n",
    "\n",
    "t,p = ttest_ind(q_average_precision_vsm, q_average_precision_vsm_bi)\n",
    "print(\"Average_precison: t = {0}  p = {1}\".format(t,p))"
   ]
  },
  {
   "cell_type": "markdown",
   "metadata": {},
   "source": [
    "## 3. LSA\n",
    "LSA measures semantic information through co-occurrence analysis in the corpus. Thedocument feature vectors are projected into the subspace spanned by the first k singularvectors of the feature space. This also reduces the amount of storage required for highdimensional document vectors."
   ]
  },
  {
   "cell_type": "markdown",
   "metadata": {},
   "source": [
    "### 3.1 Effective number of latent variables in LSA"
   ]
  },
  {
   "cell_type": "code",
   "execution_count": 24,
   "metadata": {},
   "outputs": [],
   "source": [
    "# SVD Model\n",
    "def svd_model(tfidf_docs, tfidf_queries, comp):\n",
    "    \n",
    "    svd = TruncatedSVD(n_components = comp)\n",
    "    svd.fit(tfidf_docs.T)\n",
    "    \n",
    "    # transformation documents and queries\n",
    "    trans_docs_lsa = svd.transform(tfidf_docs.T).T\n",
    "    trans_queries_lsa = svd.transform(tfidf_queries.T).T\n",
    "    \n",
    "    # documents ranking for queries using lsa\n",
    "    cosine_sim_lsa = np.matmul(trans_docs_lsa.T, trans_queries_lsa)\n",
    "    doc_ordered = (np.argsort(cosine_sim_lsa,axis=0)+1)[::-1].T.tolist()\n",
    "    \n",
    "    return doc_ordered"
   ]
  },
  {
   "cell_type": "code",
   "execution_count": 25,
   "metadata": {},
   "outputs": [],
   "source": [
    "# Calculation of MAP for different number of latent variables\n",
    "components_used = [100, 200, 300, 400, 500, 600, 700, 800, 900, 1000]\n",
    "evaluator = Evaluation()\n",
    "MAP = []\n",
    "for comp in components_used:\n",
    "    doc_ordered_lsa = svd_model(tfidf_docs_vsm, tfidf_queries_vsm, comp)\n",
    "    MAP.append(evaluator.meanAveragePrecision(doc_ordered_lsa, query_ids, qrels, k =10))"
   ]
  },
  {
   "cell_type": "code",
   "execution_count": 26,
   "metadata": {},
   "outputs": [
    {
     "data": {
      "image/png": "[encoded data removed]",
      "text/plain": [
       "<Figure size 720x360 with 1 Axes>"
      ]
     },
     "metadata": {
      "needs_background": "light"
     },
     "output_type": "display_data"
    }
   ],
   "source": [
    "# Plot to find number of latent variables which have highest MAP\n",
    "plt.figure(figsize=(10,5))\n",
    "plt.plot(components_used, MAP)\n",
    "plt.scatter(components_used, MAP)\n",
    "plt.title('Number of Latent Variables Vs MAP')\n",
    "plt.xlabel('Number of Latent Variables')\n",
    "plt.ylabel('Mean Average Precision @ k = 10')\n",
    "plt.show()"
   ]
  },
  {
   "cell_type": "markdown",
   "metadata": {},
   "source": [
    "### 3.2 LSA with Optimal Latent Variables\n",
    "\n",
    "From the above plot we have maximum value of MAP for k = 600 latent dimensions"
   ]
  },
  {
   "cell_type": "code",
   "execution_count": 27,
   "metadata": {},
   "outputs": [],
   "source": [
    "comp = 600\n",
    "doc_ordered_lsa = svd_model(tfidf_docs_vsm, tfidf_queries_vsm, comp)"
   ]
  },
  {
   "cell_type": "markdown",
   "metadata": {},
   "source": [
    "### 3.3 Evaluation"
   ]
  },
  {
   "cell_type": "code",
   "execution_count": 28,
   "metadata": {},
   "outputs": [
    {
     "name": "stdout",
     "output_type": "stream",
     "text": [
      "Precision, Recall and F-score @ 1 : 0.6888888888888889, 0.1167557742577563, 0.19112850102605697\n",
      "MAP, nDCG @ 1 : 0.6888888888888889, 0.5096296296296297\n",
      "Precision, Recall and F-score @ 2 : 0.5666666666666667, 0.18475996648413642, 0.2614776054274953\n",
      "MAP, nDCG @ 2 : 0.7311111111111112, 0.40348084349973956\n",
      "Precision, Recall and F-score @ 3 : 0.5125925925925925, 0.2433906660802859, 0.3067147937639453\n",
      "MAP, nDCG @ 3 : 0.7385185185185187, 0.3901489166901074\n",
      "Precision, Recall and F-score @ 4 : 0.46444444444444444, 0.28273010261850534, 0.32520416034966926\n",
      "MAP, nDCG @ 4 : 0.732098765432099, 0.38710944096486993\n",
      "Precision, Recall and F-score @ 5 : 0.4124444444444447, 0.30954979431799123, 0.3260694430633139\n",
      "MAP, nDCG @ 5 : 0.7265185185185186, 0.3839553329525947\n",
      "Precision, Recall and F-score @ 6 : 0.3822222222222223, 0.33738320420312534, 0.3302832259597709\n",
      "MAP, nDCG @ 6 : 0.7167592592592593, 0.3898472808384123\n",
      "Precision, Recall and F-score @ 7 : 0.3580952380952386, 0.36443895178572594, 0.33293238602877206\n",
      "MAP, nDCG @ 7 : 0.7048682539682536, 0.3958521339775252\n",
      "Precision, Recall and F-score @ 8 : 0.33, 0.3808552634105, 0.3261543386385395\n",
      "MAP, nDCG @ 8 : 0.6944289241622572, 0.4004176643226193\n",
      "Precision, Recall and F-score @ 9 : 0.3111111111111115, 0.3998947997637619, 0.3232733261033334\n",
      "MAP, nDCG @ 9 : 0.684520559334845, 0.40440527461194165\n",
      "Precision, Recall and F-score @ 10 : 0.29155555555555573, 0.4113903770260058, 0.3155686667078845\n",
      "MAP, nDCG @ 10 : 0.675978063324095, 0.4075141665146818\n"
     ]
    },
    {
     "data": {
      "image/png": "[encoded data removed]",
      "text/plain": [
       "<Figure size 720x360 with 1 Axes>"
      ]
     },
     "metadata": {
      "needs_background": "light"
     },
     "output_type": "display_data"
    }
   ],
   "source": [
    "# Evaluation of LSA model using precision, recall, f-score, MAP, nDCG for top k retrived documents\n",
    "Evaluation_metrics(doc_ordered_lsa, query_ids, qrels, title_name=\"LSA with 600 latent variables\")"
   ]
  },
  {
   "cell_type": "code",
   "execution_count": 29,
   "metadata": {},
   "outputs": [],
   "source": [
    "# Calulating evaluation metrics for each query separately\n",
    "q_precision_lsa, q_recall_lsa, q_fscore_lsa, q_ndcg_lsa, q_average_precision_lsa = Query_metrics(qrels,\n",
    "                                                                                                 doc_ordered_lsa,\n",
    "                                                                                                 queries,\n",
    "                                                                                                 model_name = 'LSA')"
   ]
  },
  {
   "cell_type": "markdown",
   "metadata": {},
   "source": [
    "### 3.4 Comparision of  VSM and LSA Model"
   ]
  },
  {
   "cell_type": "code",
   "execution_count": 30,
   "metadata": {},
   "outputs": [
    {
     "name": "stdout",
     "output_type": "stream",
     "text": [
      "Precision: t = -0.02397765638395606  p = 0.9808811072894034\n",
      "Recall: t = 0.06669298934614286  p = 0.9468558679729865\n",
      "F-score: t = 0.005084272035585859  p = 0.995945618475363\n",
      "ndcg: t = -0.21905693171248802  p = 0.8267054622733936\n",
      "Average_precison: t = -0.4112265392384486  p = 0.6811030719885808\n"
     ]
    }
   ],
   "source": [
    "# T-Test Implementation\n",
    "t,p = ttest_ind(q_precision_vsm, q_precision_lsa)\n",
    "print(\"Precision: t = {0}  p = {1}\".format(t,p))\n",
    "\n",
    "t,p = ttest_ind(q_recall_vsm, q_recall_lsa)\n",
    "print(\"Recall: t = {0}  p = {1}\".format(t,p))\n",
    "\n",
    "t,p = ttest_ind(q_fscore_vsm, q_fscore_lsa)\n",
    "print(\"F-score: t = {0}  p = {1}\".format(t,p))\n",
    "\n",
    "t,p = ttest_ind(q_ndcg_vsm, q_ndcg_lsa)\n",
    "print(\"ndcg: t = {0}  p = {1}\".format(t,p))\n",
    "\n",
    "t,p = ttest_ind(q_average_precision_vsm, q_average_precision_lsa)\n",
    "print(\"Average_precison: t = {0}  p = {1}\".format(t,p))"
   ]
  },
  {
   "cell_type": "markdown",
   "metadata": {},
   "source": [
    "## 4. Query Expansion"
   ]
  },
  {
   "cell_type": "markdown",
   "metadata": {},
   "source": [
    "### 4.1 Finding out similar words "
   ]
  },
  {
   "cell_type": "code",
   "execution_count": 31,
   "metadata": {},
   "outputs": [
    {
     "data": {
      "text/html": [
       "<div>\n",
       "<style scoped>\n",
       "    .dataframe tbody tr th:only-of-type {\n",
       "        vertical-align: middle;\n",
       "    }\n",
       "\n",
       "    .dataframe tbody tr th {\n",
       "        vertical-align: top;\n",
       "    }\n",
       "\n",
       "    .dataframe thead th {\n",
       "        text-align: right;\n",
       "    }\n",
       "</style>\n",
       "<table border=\"1\" class=\"dataframe\">\n",
       "  <thead>\n",
       "    <tr style=\"text-align: right;\">\n",
       "      <th></th>\n",
       "      <th>query</th>\n",
       "      <th>preprocessed</th>\n",
       "      <th>expanded_query</th>\n",
       "    </tr>\n",
       "  </thead>\n",
       "  <tbody>\n",
       "    <tr>\n",
       "      <th>0</th>\n",
       "      <td>what similarity laws must be obeyed when const...</td>\n",
       "      <td>similarity law must obeyed constructing aeroel...</td>\n",
       "      <td>similarity law_of_similarity law jurisprudence...</td>\n",
       "    </tr>\n",
       "    <tr>\n",
       "      <th>1</th>\n",
       "      <td>what are the structural and aeroelastic proble...</td>\n",
       "      <td>structural aeroelastic problem associated flig...</td>\n",
       "      <td>structural geomorphologic geomorphological pro...</td>\n",
       "    </tr>\n",
       "    <tr>\n",
       "      <th>2</th>\n",
       "      <td>what problems of heat conduction in composite ...</td>\n",
       "      <td>problem heat conduction composite slab solved far</td>\n",
       "      <td>problem job trouble heat heat_energy hotness c...</td>\n",
       "    </tr>\n",
       "    <tr>\n",
       "      <th>3</th>\n",
       "      <td>can a criterion be developed to show empirical...</td>\n",
       "      <td>criterion developed show empirically validity ...</td>\n",
       "      <td>standard criterion measure develop evolve germ...</td>\n",
       "    </tr>\n",
       "    <tr>\n",
       "      <th>4</th>\n",
       "      <td>what chemical kinetic system is applicable to ...</td>\n",
       "      <td>chemical kinetic system applicable hypersonic ...</td>\n",
       "      <td>chemical chemical_substance chemic kinetic ene...</td>\n",
       "    </tr>\n",
       "  </tbody>\n",
       "</table>\n",
       "</div>"
      ],
      "text/plain": [
       "                                               query  \\\n",
       "0  what similarity laws must be obeyed when const...   \n",
       "1  what are the structural and aeroelastic proble...   \n",
       "2  what problems of heat conduction in composite ...   \n",
       "3  can a criterion be developed to show empirical...   \n",
       "4  what chemical kinetic system is applicable to ...   \n",
       "\n",
       "                                        preprocessed  \\\n",
       "0  similarity law must obeyed constructing aeroel...   \n",
       "1  structural aeroelastic problem associated flig...   \n",
       "2  problem heat conduction composite slab solved far   \n",
       "3  criterion developed show empirically validity ...   \n",
       "4  chemical kinetic system applicable hypersonic ...   \n",
       "\n",
       "                                      expanded_query  \n",
       "0  similarity law_of_similarity law jurisprudence...  \n",
       "1  structural geomorphologic geomorphological pro...  \n",
       "2  problem job trouble heat heat_energy hotness c...  \n",
       "3  standard criterion measure develop evolve germ...  \n",
       "4  chemical chemical_substance chemic kinetic ene...  "
      ]
     },
     "execution_count": 31,
     "metadata": {},
     "output_type": "execute_result"
    }
   ],
   "source": [
    "# For each word in a query, three synonyms are generated from WordNet\n",
    "def query_expansion(text):\n",
    "\n",
    "    text=text.split()\n",
    "    synonyms=[]\n",
    "    count=0\n",
    "    for x in text:\n",
    "        for syn in wordnet.synsets(x):\n",
    "            for l in syn.lemmas() :\n",
    "                if(count<3):\n",
    "                    if l.name() not in synonyms:\n",
    "                        synonyms.append(l.name())\n",
    "                        count+=1\n",
    "        count=0      \n",
    "        synonyms_string=' '.join(synonyms)\n",
    "    return synonyms_string\n",
    "\n",
    "query_df['expanded_query'] = query_df[\"preprocessed\"].apply(lambda x: query_expansion(x))\n",
    "# query_df['expanded_query'] += query_df['preprocessed']\n",
    "query_df.head()"
   ]
  },
  {
   "cell_type": "code",
   "execution_count": 32,
   "metadata": {},
   "outputs": [
    {
     "data": {
      "text/plain": [
       "['similarity law_of_similarity law jurisprudence natural_law must mustiness moldiness obey construct build make model theoretical_account framework heat heat_up inflame high heights senior_high_school speed velocity swiftness aircraft',\n",
       " 'structural geomorphologic geomorphological problem job trouble associate tie_in relate flight flying flight_of_stairs high heights senior_high_school speed velocity swiftness aircraft',\n",
       " 'problem job trouble heat heat_energy hotness conduction conductivity complex composite composite_plant slab solve work_out figure_out Army_for_the_Liberation_of_Rwanda ALIR Former_Armed_Forces',\n",
       " 'standard criterion measure develop evolve germinate show display appearance empirically through_empirical_observation by_trial_and_error cogency validity rigor flow flowing flow_rate solution answer result chemically react respond oppose gas gaseous_state gasoline mixture concoction intermixture establish base ground simplify premise premiss assumption instantaneous instant local local_anesthetic local_anaesthetic chemical chemical_substance chemic equilibrium chemical_equilibrium balance',\n",
       " 'chemical chemical_substance chemic kinetic energizing energising system scheme system_of_rules applicable aerodynamic streamlined flowing problem job trouble',\n",
       " 'theoretical theoretic experimental data-based observational usher guide guidebook disruptive riotous troubled coquette flirt vamp flow flowing flow_rate behavior behaviour demeanor',\n",
       " \"possible potential associate tie_in relate available uncommitted usable pressure pressure_level force_per_unit_area distribution statistical_distribution dispersion give spring springiness predict foretell prognosticate nothing nil nix angle slant Angle attack onslaught onset lower_berth lower take_down surface Earth's_surface open press pressing imperativeness equivalent equivalent_weight combining_weight yield afford pay call forebode anticipate lean tilt tip onrush fire flak\",\n",
       " 'method method_acting dash elan flair demand exact claim approximate come_close estimate panache style sprint soon shortly presently available uncommitted usable predict foretell prognosticate body organic_structure physical_structure pressure pressure_level force_per_unit_area angle slant Angle attack onslaught onset',\n",
       " 'paper composition report internal intragroup home faux_pas gaffe solecism flow flowing flow_rate heat heat_energy hotness transportation transport transfer survey study work',\n",
       " 'real_number real existent gas gaseous_state gasoline conveyance transport transportation property belongings holding air aura atmosphere available uncommitted usable wide broad across-the-board scope range reach heat_content total_heat enthalpy density denseness concentration',\n",
       " 'possible potential discovery breakthrough find analytic analytical similar alike like solution answer result strong potent stiff blast bang clap wave moving_ridge undulation problem job trouble Newtonian estimate estimation approximation',\n",
       " 'aerodynamic streamlined flowing performance public_presentation execution channel transmission_channel groove flow flow_rate rate_of_flow land dry_land earth consequence effect outcome machine simple_machine political_machine calculate cipher cypher',\n",
       " 'BASIC basic staple mechanism chemical_mechanism mechanics aileron buzz bombilation bombination',\n",
       " 'paper composition report daze shock stupor sound auditory_sensation audio wave moving_ridge undulation interaction fundamental_interaction',\n",
       " 'material stuff fabric property belongings holding cloth textile corporeal',\n",
       " 'cross transverse transversal potential potentiality potency flow flowing flow_rate body organic_structure physical_structure revolution rotation gyration calculate cipher cypher efficiently expeditiously electronic computer computing_machine computing_device',\n",
       " 'three 3 III dimensional problem job trouble cross transverse transversal potential potentiality potency flow flowing flow_rate body organic_structure physical_structure revolution rotation gyration reduce cut_down cut_back two 2 II',\n",
       " 'experimental data-based observational pressure pressure_level force_per_unit_area distribution statistical_distribution dispersion body organic_structure physical_structure revolution rotation gyration angle slant Angle attack onslaught onset available uncommitted usable',\n",
       " 'exist be survive good goodness commodity BASIC basic staple treatment intervention handling moral_force dynamic dynamical entry introduction debut combining combine combination consideration circumstance condition realistic naturalistic consequence effect outcome relative relation congener simplicity simpleness simple_mindedness result event issue',\n",
       " 'formally officially determine find find_out influence act_upon work joule J watt_second heating warming heating_system produce bring_forth make induce bring_on stimulate current electric_current stream free free_people liberate convection flow flowing flow_rate general full_general superior_general condition status precondition',\n",
       " 'compressibility squeezability sponginess transformation transmutation shift fail neglect go_wrong correlate correlative correlated high heights senior_high_school speed velocity swiftness data information datum helium He atomic_number_2 air aura atmosphere',\n",
       " 'detect observe find disruptive riotous troubled skin tegument cutis clash friction rubbing medium spiritualist sensitive nature variation fluctuation variance viscosity viscousness temperature',\n",
       " 'advancement progress progression make do get research inquiry enquiry unsteady unfirm aeromechanics aerodynamics',\n",
       " 'factor component constituent influence act_upon work time clip clock_time necessitate ask postulate invert reverse turn_back large big bombastic structural geomorphologic geomorphological matrix intercellular_substance ground_substance',\n",
       " 'practical hardheaded hard-nosed flow flowing flow_rate follow postdate fall_out theoretical theoretic concept conception construct interaction fundamental_interaction adjacent next side_by_side blade leaf_blade sword row quarrel wrangle supersonic ultrasonic cascade shower cascade_down',\n",
       " 'single bingle one approximate come_close estimate formula expression recipe supplanting displacement shift thickness heaviness laminar laminal boundary bound bounds layer bed level flow flowing flow_rate flat flatcar flatbed home_plate home_base home',\n",
       " 'design designing plan ring halo annulus part portion component_part doughnut anchor_ring hoop wing offstage backstage linear additive one-dimensional theory hypothesis possibility affect impact bear_upon thickness heaviness',\n",
       " 'application practical_application coating linear additive one-dimensional theory hypothesis possibility design designing plan swerve sheer curve wing offstage backstage',\n",
       " 'consequence effect outcome cross crisscross mark sectional sectioned shape form configuration flow flowing flow_rate simple simpleton elementary delta wing offstage backstage sharp crisp acuate lead leading leadership edge border boundary',\n",
       " 'paper composition report flow flowing flow_rate visual_image visualization visualisation slender slight slim conic conical conelike wing offstage backstage',\n",
       " 'size sizing size_of_it end terminal ending home_plate home_base home safely use utilize utilise imitate copy simulate two 2 II dimensional flow flowing flow_rate condition status precondition bluff four_flush bluff_out cylindrical cylindric body organic_structure physical_structure finite aspect facet view ratio proportion',\n",
       " 'discovery breakthrough find approximate come_close estimate correction rectification fudge_factor thickness heaviness slender slight slim thin dilute thin_out wing offstage backstage theory hypothesis possibility',\n",
       " 'intervention interference hindrance free free_people liberate longitudinal stability stableness constancy measurement measuring measure make do get exploitation victimization victimisation release unloose unloosen flight flying flight_of_stairs model theoretical_account framework comparison compare equivalence similar alike like mensuration create induce stimulate low depression Low obstruction blockage block wind air_current current_of_air tunnel burrow',\n",
       " 'wind air_current current_of_air tunnel burrow intervention interference hindrance consequence effect outcome investigate look_into inquire systematic taxonomic taxonomical footing basis ground',\n",
       " 'paper composition report dealing transaction dealings acoustic acoustical wave moving_ridge undulation propagation extension generation react respond oppose gas gaseous_state gasoline',\n",
       " 'investigate look_into inquire relaxation relaxation_behavior easiness consequence effect outcome gaseous heat heat_energy hotness transportation transport transfer suddenly all_of_a_sudden of_a_sudden heat_up inflame stir_up wall paries rampart',\n",
       " 'theoretical theoretic method method_acting predict foretell prognosticate base base_of_operations foundation pressure pressure_level force_per_unit_area',\n",
       " 'passage transition conversion aftermath wake backwash depend count bet body organic_structure physical_structure geometry size sizing size_of_it',\n",
       " 'one 1 I detect observe find passage transition conversion phenomenon boundary bound bounds layer bed level',\n",
       " 'one 1 I detect observe find passage transition conversion phenomenon aftermath wake backwash',\n",
       " 'investigate look_into inquire develop evolve germinate simple simpleton elementary model theoretical_account framework whirl swirl vortex aftermath wake backwash buttocks nates arse cruciate cruciform wing offstage backstage',\n",
       " 'standard criterion measure flow flowing flow_rate about around approximately airfoil aerofoil control_surface round unit_of_ammunition one_shot lead leading leadership edge border boundary quickly rapidly speedily analyze analyse study linearize linearise rate_of_flow stream current theory hypothesis possibility',\n",
       " 'flow flowing flow_rate about around approximately arbitrary smooth smoothen polish thin dilute thin_out airfoil aerofoil control_surface analyze analyse study simple simpleton elementary approximate come_close estimate manner mode style',\n",
       " 'detail item point rigorous strict stringent kinetic energizing energising theory hypothesis possibility gas gaseous_state gasoline Chapman John_Chapman Johnny_Appleseed',\n",
       " \"investigate look_into inquire consequence effect outcome surface Earth's_surface open mass batch deal transportation transport transfer syrupy viscous gluey interaction fundamental_interaction\",\n",
       " \"unite combine compound consequence effect outcome surface Earth's_surface open heat heat_energy hotness mass batch deal transportation transport transfer flow flowing flow_rate\",\n",
       " 'exist be survive solution answer result syrupy viscous gluey interaction fundamental_interaction insulate isolate flat flatcar flatbed home_plate home_base home',\n",
       " 'control control_condition dominance lead leading leadership edge border boundary attachment fond_regard bond speed velocity swiftness',\n",
       " 'three 3 III point detail item boundary bound bounds value economic_value time_value problem job trouble footing basis ground equation equality equivalence integrate incorporate desegregate numerically exploitation victimization victimisation suitable suited desirable transformation transmutation shift iteration loop looping edge limit condition status precondition',\n",
       " 'consequence effect outcome small little minor sum sum_of_money amount gas gaseous_state gasoline rarefaction feature characteristic device_characteristic boundary bound bounds layer bed level slender slight slim body organic_structure physical_structure revolution rotation gyration',\n",
       " 'available uncommitted usable information info data refer pertain relate boundary bound bounds layer bed level slender slight slim body organic_structure physical_structure revolution rotation gyration continuum flow flowing flow_rate cross transverse transversal curvature curve consequence effect outcome',\n",
       " 'available uncommitted usable information info data refer pertain relate consequence effect outcome rebuff slight cold-shoulder rarefaction boundary bound bounds layer bed level flow flowing flow_rate faux_pas gaffe solecism result event issue',\n",
       " 'probe investigation investigating make do get flow flowing flow_rate field battlefield battleground body organic_structure physical_structure travel go move rarefy sublimate subtilize partially partly part ionize ionise ionized gas gaseous_state gasoline presence front bearing',\n",
       " 'heat heat_energy hotness transportation transport transfer downstream downriver mass batch deal transferral conveyance transferee region part area effect effectuate set_up flock good_deal great_deal transference transfer_of_training carry-over nose olfactory_organ nozzle blunt numb benumb cone conoid cone_shape',\n",
       " 'extent available uncommitted usable information info data incompressible boundary bound bounds layer bed level use utilize utilise problem job trouble involve affect regard edge limit stratum',\n",
       " \"extent readily promptly pronto available uncommitted usable sweetheart sweetie steady state province nation aerodynamic streamlined flowing data information datum use utilize utilise predict foretell prognosticate raise lift elevate surface Earth's_surface open waver flutter flicker feature characteristic device_characteristic\",\n",
       " 'significant important substantial sweetheart sweetie steady not non truelove calm becalm flow flowing flow_rate feature characteristic device_characteristic affect impact bear_upon waver flutter flicker mechanism chemical_mechanism mechanics',\n",
       " 'possible potential determine find find_out rate charge_per_unit pace coerce hale squeeze heat heat_energy hotness transportation transport transfer heat_up inflame stir_up cylinder piston_chamber not non circular handbill bill cross crisscross mark section subdivision segment fluid unstable runny flow flowing flow_rate along on generator source author',\n",
       " 'much a_lot lots know cognize cognise boundary bound bounds layer bed level flow flowing flow_rate along on not non circular handbill bill cylinder piston_chamber',\n",
       " 'simple simpleton elementary practical hardheaded hard-nosed method method_acting numeric numerical numeral integration integrating desegregation mix commixture admixture problem job trouble vitamin_E tocopherol E footing basis ground three 3 III point detail item boundary bound bounds condition status precondition',\n",
       " 'exist be survive close shut close_up form word_form signifier expression look aspect local local_anesthetic local_anaesthetic heat heat_energy hotness transportation transport transfer about around approximately saw cylinder piston_chamber',\n",
       " 'Army_for_the_Liberation_of_Rwanda ALIR Former_Armed_Forces about around approximately cylinder piston_chamber condition status precondition flow flowing flow_rate speed velocity outside exterior external boundary bound bounds layer bed level linear additive one-dimensional function mathematical_function single-valued_function distance length aloofness close_to just_about some',\n",
       " \"discovery breakthrough find pressure pressure_level force_per_unit_area data information datum surface Earth's_surface open brush sweep sail cylinder piston_chamber\",\n",
       " 'static atmospherics atmospheric_static deflection warp deflexion shape form configuration use utilize utilise predict foretell prognosticate waver flutter flicker topographic_point place spot vibrational contour conformation human_body supply provide render justification mean mean_value intend example illustration instance',\n",
       " 'boundary bound bounds layer bed level flat flatcar flatbed home_plate home_base home shear fleece flow flowing flow_rate induce bring_on stimulate pressure pressure_level force_per_unit_area gradient slope',\n",
       " 'procedure process operation match fit correspond inner interior internal outer out extinct solution answer result syrupy viscous gluey flow flowing flow_rate problem job trouble use utilize utilise main briny chief stream watercourse current shear fleece rate_of_flow menstruation menses',\n",
       " 'series serial serial_publication expansion enlargement elaboration found establish set_up boundary bound bounds layer bed level flat flatcar flatbed home_plate home_base home shear fleece flow flowing flow_rate',\n",
       " 'possible potential technique proficiency available uncommitted usable computer_science computing calculation injection injectant shot distribution statistical_distribution dispersion match fit correspond geothermal geothermic transpiration cool chill cool_down hemisphere cerebral_hemisphere',\n",
       " 'know cognize cognise see consider reckon asymptomatic symptomless solution answer result demand exact claim boundary bound bounds layer bed level equation equality equivalence',\n",
       " 'previous old former solution answer result boundary bound bounds layer bed level similarity law_of_similarity equation equality equivalence',\n",
       " 'experimental data-based observational consequence effect outcome syrupy viscous gluey interaction fundamental_interaction',\n",
       " 'make do perform syrupy viscous gluey interaction fundamental_interaction relatively comparatively low depression Low Reynolds Sir_Joshua_Reynolds number figure act flow flowing flow_rate particularly peculiarly especially high heights senior_high_school Mach Ernst_Mach routine turn bit',\n",
       " 'function office part consequence effect outcome chemical chemical_substance chemic chemical_reaction reaction response particularly peculiarly especially equilibrium chemical_equilibrium balance play drama dramatic_play likeness alikeness similitude law jurisprudence natural_law government governing governance flow flowing flow_rate slender slight slim aerodynamic streamlined sleek body organic_structure physical_structure',\n",
       " 'significant important substantial possible potential pressure pressure_level force_per_unit_area disassociate dissociate divorce free free_people liberate stream watercourse flow respect regard esteem realization realisation recognition simulation computer_simulation model high heights senior_high_school heat_content total_heat enthalpy wind air_current current_of_air tunnel burrow',\n",
       " 'discrepancy disagreement divergence current electric_current stream analysis analytic_thinking psychoanalysis edacity esurience ravenousness consequence effect outcome stagnation stagnancy doldrums point detail item heat heat_energy hotness transportation transport transfer result event issue chiefly principally primarily difference deviation departure viscosity viscousness temperature law jurisprudence natural_law assume presume take_for_granted',\n",
       " 'Army_for_the_Liberation_of_Rwanda ALIR Former_Armed_Forces one 1 I trust reliance trustingness linear additive one-dimensional viscosity viscousness temperature solution answer result assume presume take_for_granted analysis analytic_thinking psychoanalysis daze shock stupor layer bed level low depression Low Reynolds Sir_Joshua_Reynolds number figure act',\n",
       " 'stopping_point finale finis comparison comparing compare daze shock stupor layer bed level theory hypothesis possibility exist be survive experiment experimentation try_out low depression Low Reynolds Sir_Joshua_Reynolds number figure act unify unite merge stratum government authorities regime',\n",
       " 'explain explicate excuse crick kink rick rush spate surge line argumentation logical_argument phase stage degree axial axile compressor',\n",
       " 'aerodynamic streamlined flowing derived_function derivative differential_coefficient measure mensurate measure_out Mach Ernst_Mach number figure act comparison comparing compare make do get theoretical theoretic work piece_of_work employment',\n",
       " 'method method_acting measurement measuring measure aerodynamic streamlined flowing derived_function derivative differential_coefficient available uncommitted usable adopt follow espouse use usage utilization short short_circuit shortstop run running running_play time clip clock_time facility installation adeptness',\n",
       " 'wind air_current current_of_air tunnel burrow correction rectification fudge_factor two 2 II dimensional airfoil aerofoil control_surface mount wax climb Centre center centre',\n",
       " 'method method_acting calculate cipher cypher lift aerodynamic_lift elevation distribution statistical_distribution dispersion brush sweep sail wing offstage backstage subsonic flow flowing flow_rate comparison compare equivalence experiment experimentation try_out',\n",
       " 'present nowadays present_tense state province nation theory hypothesis possibility quasi conic conical conelike flow flowing flow_rate',\n",
       " 'mention reference citation method method_acting available uncommitted usable accurately estimate gauge approximate aerodynamic streamlined flowing heat heat_energy hotness transportation transport transfer conic conical conelike body organic_structure physical_structure laminar laminal disruptive riotous troubled flow flow_rate rate_of_flow',\n",
       " 'parameter parametric_quantity argument seriously earnestly in_earnest influence act_upon work natural cancel instinctive passage transition conversion laminar laminal disruptive riotous troubled flow flowing flow_rate model theoretical_account framework wind air_current current_of_air tunnel burrow',\n",
       " 'satisfactory acceptable experimental data-based observational technique proficiency develop evolve germinate measurement measuring measure oscillator derived_function derivative differential_coefficient slender slight slim sting stinging pang mount wax climb model theoretical_account framework supersonic ultrasonic wind air_current current_of_air tunnel burrow',\n",
       " 'consequence effect outcome boundary bound bounds layer bed level modify qualify change BASIC basic staple flow flowing flow_rate buttocks nates arse daze shock stupor neglect pretermit omit result event issue lead leading leadership edge border sharpness corner nook street_corner',\n",
       " 'satellite artificial_satellite orbiter orbit celestial_orbit sphere contract declaration contract_bridge action activity activeness air aura atmosphere drag retarding_force puff ambiance ambience standard_atmosphere scale scale_of_measurement graduated_table height tallness acme change alter vary altitude elevation EL',\n",
       " 'flow flowing flow_rate speed velocity swiftness delta wing offstage backstage different unlike dissimilar closely close tight associate tie_in relate taper sharpen point flank fender annex',\n",
       " 'Holocene Holocene_epoch Recent data information datum daze shock stupor induce bring_on stimulate boundary bound bounds layer bed level separation breakup detachment',\n",
       " 'intervention interference hindrance consequence effect outcome likely probable potential speed velocity swiftness',\n",
       " 'given presumption precondition complete finish dispatch freedom exemption design designing plan airplane aeroplane plane procedure process operation use utilize utilise order order_of_magnitude ordering minimize minimise understate sonic transonic boom roar roaring intensity strength intensity_level limit bound boundary degree grade level downplay belittle denigrate carry_through accomplish execute',\n",
       " 'methane air aura atmosphere combustion burning merchandise ware product use utilize utilise trial trial_run test medium culture_medium spiritualist predict foretell prognosticate inside within experimental data-based observational inaccuracy consequence effect outcome obtain receive get breeze zephyr gentle_wind',\n",
       " 'theoretical theoretic heat heat_energy hotness transportation transport transfer rate charge_per_unit pace stagnation stagnancy doldrums point detail item blunt numb benumb body organic_structure physical_structure',\n",
       " 'theoretical theoretic heat heat_energy hotness transportation transport transfer distribution statistical_distribution dispersion about around approximately hemisphere cerebral_hemisphere',\n",
       " 'investigate look_into inquire unsteady unfirm lift aerodynamic_lift elevation distribution statistical_distribution dispersion finite wing offstage backstage subsonic flow flowing flow_rate',\n",
       " 'information info data available uncommitted usable moral_force dynamic dynamical response reaction answer airplane aeroplane plane gust blast blow bang clap eruption subsonic government authorities regime',\n",
       " 'forward send_on advancing vertex peak apex locate turn_up situate control control_condition dominance effective effectual efficacious low depression Low subsonic speed velocity swiftness comparison compare equivalence conventional established formal trailing tracking drag edge border boundary flap dither pother',\n",
       " 'given presumption precondition uncontrolled vehicle fomite tumble spill fall enter come_in get_into atmosphere ambiance ambience possible potential predict foretell prognosticate stop halt stoppage acrobatics tumbling topple subsequent gesture motion movement',\n",
       " 'consequence effect outcome initial imperfection imperfectness rubber_band elastic_band elastic buckle clasp crumple cylindrical cylindric shell carapace cuticle axial axile compaction compression concretion',\n",
       " 'incremental theory hypothesis possibility distortion deformation contortion plastic credit_card charge_card stress emphasis accent strain tune melody relationship human_relationship kinship differ disagree dissent greatly use utilize utilise',\n",
       " 'BASIC basic staple moral_force dynamic dynamical feature characteristic device_characteristic structure construction anatomical_structure continuous uninterrupted many span couple pair',\n",
       " 'information info data buckle clasp crumple sandwich sphere domain area available uncommitted usable',\n",
       " 'load loading burden distortion deformation contortion feature characteristic device_characteristic radio_beam beam ray obtain receive get material stuff fabric rubber_band elastic_band elastic not non uniform unvarying consistent temperature present nowadays present_tense',\n",
       " 'consequence effect outcome internal intragroup home liquid liquidness liquidity column chromatography_column tower breathing external_respiration respiration vibration quiver quivering cylindrical cylindric shell carapace cuticle',\n",
       " 'experimental data-based observational technique proficiency shell carapace cuticle vibration quiver quivering',\n",
       " 'sum_up summarize summarise theoretical theoretic experimental data-based observational work piece_of_work employment behavior behaviour demeanor typical distinctive aircraft structure construction anatomical_structure noise dissonance racket environment environs surroundings possible potential develop evolve germinate design designing plan procedure process operation',\n",
       " 'data information datum fatigue weariness tiredness structure construction anatomical_structure acoustic acoustical load loading burden',\n",
       " 'panel jury venire subject subjugate submit aerodynamic streamlined flowing heating warming heating_system',\n",
       " 'increase increasing edge border boundary load loading burden home_plate home_base home beyond critical vital decisive value economic_value time_value buckle clasp crumple change alteration modification heave warp manner mode style',\n",
       " 'consequence effect outcome rubber_band elastic_band elastic edge border boundary restraint control constraint see consider reckon previous old former paper composition report panel jury venire waver flutter flicker',\n",
       " 'solution answer result clamp home_plate home_base home problem job trouble classical_music classical serious_music theory hypothesis possibility bending bend deflection reduce cut_down cut_back two 2 II consecutive sequent sequential membrane tissue_layer boundary bound bounds value economic_value time_value',\n",
       " \"data information datum exist be survive oscillator aerodynamic streamlined flowing force forcefulness strength control control_condition dominance surface Earth's_surface open Mach Ernst_Mach number figure act\",\n",
       " 'likely probable potential air_force airforce wing offstage backstage general full_general superior_general platform political_platform political_program hover vibrate vacillate flow flowing flow_rate determine find find_out strictly purely analytic analytical method method_acting possible ascertain shape mold single bingle one particular specific detail program weapons_platform chopine rectangular orthogonal 1 I ace',\n",
       " 'problem job trouble similarity law_of_similarity representative spokesperson interpreter probe investigation investigating consequence effect outcome heat heat_up inflame flow flowing flow_rate intractable previous old former imply connote entail',\n",
       " 'magnitude order_of_magnitude distribution statistical_distribution dispersion lift aerodynamic_lift elevation cone conoid cone_shape cylindrical cylindric part portion component_part strobilus strobile cone_cell cylinder piston_chamber configuration constellation shape',\n",
       " 'information info data addition add-on improver boat gravy_boat gravy_holder tail fag_end tail_end affect impact bear_upon convention normal pattern force forcefulness strength body organic_structure physical_structure assorted various respective angle slant Angle incidence relative_incidence',\n",
       " 'aerodynamic streamlined flowing intervention interference hindrance consequence effect outcome five 5 V lift aerodynamic_lift elevation body organic_structure physical_structure raising rise ski_tow cinque quint quintet dead_body torso trunk combination combining compounding',\n",
       " 'consequence effect outcome initial asymmetrical asymmetric deviation divergence departure circularity disk_shape not non linear additive one-dimensional large big bombastic deflection warp deflexion load loading burden refraction bending diversion response reaction answer cylinder piston_chamber hydrostatic pressure pressure_level force_per_unit_area',\n",
       " 'previous old former analysis analytic_thinking psychoanalysis circumferential thermal thermic caloric buckle clasp crumple circular handbill bill cylindrical cylindric shell carapace cuticle unnecessarily involve affect regard evening eve even inaccurate due ascribable imputable assume presume take_for_granted form word_form signifier heave warp manner mode style',\n",
       " 'paper composition report dealing transaction dealings circumferential buckle clasp crumple either thermal thermic caloric heave warp due ascribable imputable mechanical mechanically_skillful load loading burden',\n",
       " 'analytic analytical probe investigation investigating make do get stability stableness constancy conic conical conelike shell carapace cuticle consequence effect outcome comparison compare equivalence experiment experimentation try_out',\n",
       " 'work piece_of_work employment make do perform determine find find_out nature syrupy viscous gluey flow flowing flow_rate heterosexual heterosexual_person straight_person channel transmission_channel groove',\n",
       " 'area country region low depression Low density denseness concentration wind air_current current_of_air tunnel burrow flow flowing flow_rate syrupy viscous gluey rate_of_flow stream current slender slight slim channel transmission_channel groove problem job trouble analytic analytical probe investigation investigating make do get stability stableness constancy conic conical conelike shell carapace cuticle consequence effect outcome comparison compare equivalence experiment experimentation try_out',\n",
       " 'jet jet_plane jet-propelled_plane intervention interference hindrance supersonic ultrasonic flow flowing flow_rate dash elan flair experimental data-based observational paper composition report',\n",
       " 'push thrust stab vector transmitter control control_condition dominance fluid unstable runny injection injectant shot dash elan flair paper composition report',\n",
       " 'possible potential obtain receive get reasonably moderately pretty simple simpleton elementary analytic analytical solution answer result heat heat_energy hotness equation equality equivalence exponential exponential_function time clip clock_time high_temperature warmth passion input_signal input remark',\n",
       " 'program programme pump heart ticker design designing plan method method_acting high heights senior_high_school speed velocity swiftness digital computer computing_machine computing_device',\n",
       " 'deduce infer deduct simplify simplified pump heart ticker design designing plan equation equality equivalence fundamental fundamental_frequency first_harmonic three 3 III dimensional par equating incompressible flow flowing flow_rate',\n",
       " 'waver flutter flicker feature characteristic device_characteristic expose unwrap disclose skin tegument cutis panel jury venire iodine iodin I vertical upright perpendicular stabilizer stabiliser subject subjugate submit aerodynamic streamlined flowing heating warming heating_system',\n",
       " 'agreement understanding correspondence found establish set_up theoretically predict foretell prognosticate instability imbalance unbalance time clip clock_time experimentally by_experimentation through_an_experiment measure mensurate measure_out collapse prostration flop fourth_dimension meter metre compress compact pack_together column chromatography_column tower creep weirdo weirdie',\n",
       " 'theoretical theoretic survey study work creep weirdo weirdie buckle clasp crumple',\n",
       " 'experimental data-based observational survey study work creep weirdo weirdie buckle clasp crumple',\n",
       " 'possible potential correlate correlative correlated consequence effect outcome creep weirdo weirdie buckle clasp crumple widely wide different unlike dissimilar structure construction anatomical_structure inside within model theoretical_account framework single bingle one theory hypothesis possibility',\n",
       " 'experimental data-based observational consequence effect outcome creep weirdo weirdie buckle clasp crumple column chromatography_column tower',\n",
       " 'consequence effect outcome creep weirdo weirdie buckle clasp crumple round unit_of_ammunition one_shot tube tubing vacuum_tube external extraneous outside pressure pressure_level force_per_unit_area',\n",
       " 'analytic analytical survey study work conduct carry_on deal time clip clock_time failure loser nonstarter mechanism chemical_mechanism mechanics associate tie_in relate creep weirdo weirdie collapse prostration flop hanker long yearn circular handbill bill cylindrical cylindric shell carapace cuticle exhibit display showing primary primary_election primary_feather secondary secondary_coil secondary_winding weirdy spook crawl well wellspring fountainhead rubber_band elastic_band elastic distortion deformation contortion assorted various respective distribute administer mete_out force forcefulness strength system scheme system_of_rules',\n",
       " 'consequence effect outcome initial stress emphasis accent frequency frequence oftenness vibration quiver quivering circular handbill bill cylindrical cylindric shell carapace cuticle investigate look_into inquire',\n",
       " 'consequence effect outcome change alteration modification initial pressure pressure_level force_per_unit_area due ascribable imputable distortion deformation contortion frequency frequence oftenness vibration quiver quivering circular handbill bill cylindrical cylindric shell carapace cuticle investigate look_into inquire',\n",
       " 'discontinuity stress emphasis accent junction conjunction conjugation supercharge pressurize pressurise structure construction anatomical_structure',\n",
       " 'analytic analytical solution answer result available uncommitted usable stress emphasis accent edge border boundary load lade laden shell carapace cuticle revolution rotation gyration',\n",
       " 'dome attic bean contour contour_line shape minimize minimise understate discontinuity stress emphasis accent use utilize utilise closing closure cloture cylindrical cylindric pressure pressure_level force_per_unit_area vessel vas watercraft',\n",
       " 'general full_general superior_general solution answer result stress emphasis accent supercharge pressurize pressurise shell carapace cuticle revolution rotation gyration available uncommitted usable',\n",
       " 'survey study work pure arrant complete membrane tissue_layer cylinder piston_chamber wall paries rampart bending bend deflection stiffness awkwardness clumsiness keep maintain hold shape form configuration virtue virtuousness moral_excellence internal intragroup home pressure pressure_level force_per_unit_area supply provide render penetration insight perceptiveness behavior behaviour demeanor supercharge pressurize pressurise finite bulwark palisade fence gracelessness severity severeness',\n",
       " 'best topper Best experimental data-based observational data information datum classical_music classical serious_music small little minor deflection warp deflexion theory hypothesis possibility analysis analytic_thinking psychoanalysis available uncommitted usable supercharge pressurize pressurise cylinder piston_chamber bending bend flex',\n",
       " 'membrane tissue_layer theory hypothesis possibility exist be survive behavior behaviour demeanor supercharge pressurize pressurise cylinder piston_chamber bending bend deflection predict foretell prognosticate',\n",
       " 'equation equality equivalence specify define delineate stability stableness constancy merely simply just support back_up back corrugate corrugated core nucleus core_group sandwich cylinder piston_chamber',\n",
       " 'paper composition report small little minor deflection warp deflexion theory hypothesis possibility buckle clasp crumple sandwich cylinder piston_chamber',\n",
       " 'develop evolve germinate analysis analytic_thinking psychoanalysis accurately establish set_up found large big bombastic deflection warp deflexion behavior behaviour demeanor conic conical conelike shell carapace cuticle',\n",
       " 'magnitude order_of_magnitude second sec s order ordering ordination wing offstage backstage body organic_structure physical_structure intervention interference hindrance high heights senior_high_school supersonic ultrasonic Mach Ernst_Mach number figure act',\n",
       " \"best topper Best theoretical theoretic method method_acting calculate cipher cypher pressure pressure_level force_per_unit_area surface Earth's_surface open wing offstage backstage alone lone lonely\",\n",
       " 'consequence effect outcome boundary bound bounds layer bed level wing offstage backstage pressure pressure_level force_per_unit_area calculate cipher cypher magnitude order_of_magnitude',\n",
       " 'Xavier Saint_Francis_Xavier stoke difference deviation divergence equation equality equivalence solve work_out figure_out',\n",
       " 'iterative iterative_aspect reiterative method method_acting resolution solving solve linear additive one-dimensional elliptic egg-shaped elliptical difference deviation divergence equation equality equivalence quickly rapidly speedily convergent',\n",
       " 'technical technical_foul proficient report study written_report measurement measuring measure ablation extirpation cutting_out flight flying flight_of_stairs',\n",
       " 'qualitative quantitative material stuff fabric available uncommitted usable ablation extirpation cutting_out cloth textile corporeal research inquiry enquiry',\n",
       " 'flow flowing flow_rate field battlefield battleground calculate cipher cypher blunt numb benumb intrude horn_in pry body organic_structure physical_structure compare liken equate experiment experimentation try_out wide broad across-the-board scope range reach free free_people liberate stream watercourse current condition status precondition dead_body torso trunk shape form configuration',\n",
       " 'available uncommitted usable property belongings holding high heights senior_high_school temperature air aura atmosphere',\n",
       " 'magnitude order_of_magnitude aerodynamic streamlined flowing muffle mute dull flexible flexile elastic vibration quiver quivering manner mode style slender slight slim body organic_structure physical_structure revolution rotation gyration feature characteristic device_characteristic launch launching establish vehicle fomite',\n",
       " 'circumferential stress emphasis accent shell carapace cuticle uncover bring_out unveil possibility possibleness hypothesis buckle clasp crumple internal intragroup home pressure pressure_level force_per_unit_area investigate look_into inquire scope range reach shield eggshell racing_shell parameter parametric_quantity argument tension tenseness focus sufficiently large big bombastic cause reason grounds rubber_band elastic_band elastic heave warp',\n",
       " 'integral built-in constitutional method method_acting give spring springiness single bingle one sufficiently accurate exact precise calculate cipher cypher laminar laminal offprint reprint separate point detail item assorted various respective incompressible boundary bound bounds layer bed level nothing nil nix heat heat_energy hotness transportation transport transfer',\n",
       " 'accurate exact precise demand claim take solution answer result laminar laminal separation breakup detachment point detail item assorted various respective incompressible boundary bound bounds layer bed level nothing nil nix heat heat_energy hotness transportation transport transfer available uncommitted usable',\n",
       " \"similarity law_of_similarity consequence effect outcome use utilize utilise technique proficiency predict foretell prognosticate surface Earth's_surface open pressure pressure_level force_per_unit_area give spring springiness call forebode anticipate angle slant Angle attack onslaught onset\",\n",
       " 'determine find find_out onset oncoming attack daze shock stupor induce bring_on stimulate boundary bound bounds layer bed level separation breakup detachment',\n",
       " 'stable stalls horse_barn profile visibility boundary bound bounds layer bed level induce bring_on stimulate travel go move wave moving_ridge undulation know cognize cognise',\n",
       " 'experimental data-based observational consequence effect outcome stability stableness constancy boundary bound bounds layer bed level induce bring_on stimulate travel go move wave moving_ridge undulation',\n",
       " 'demand exact claim solution answer result method method_acting calculate cipher cypher ablative ablative_case mass batch deal loss deprivation red_ink material stuff fabric ablate high heights senior_high_school temperature flight flying flight_of_stairs environment environs surroundings',\n",
       " 'approximate come_close estimate solution answer result know cognize cognise direct target aim problem job trouble flow flowing flow_rate throat pharynx nozzle nose beak vitamin_E tocopherol E determination finding find rate_of_flow stream current given presumption precondition honker hooter snoot',\n",
       " 'approximate come_close estimate solution answer result know cognize cognise indirect collateral problem job trouble flow flowing flow_rate throat pharynx nozzle nose beak vitamin_E tocopherol E determination finding find honker hooter snoot given presumption precondition axial axile speed velocity distribution statistical_distribution dispersion',\n",
       " 'user exploiter drug_user Orthodox Jewish-Orthodox orthodox Pitot Henri_Pitot Pitot_tube static atmospherics atmospheric_static tube tubing vacuum_tube frequently often oftentimes discovery breakthrough find calibration standardization standardisation look appear seem significantly importantly different unlike dissimilar once formerly at_one_time stipulate qualify condition iodine iodin I wildly variable variable_quantity variable_star low depression Low Reynolds Sir_Joshua_Reynolds number figure act',\n",
       " 'comparison comparing compare make do get intervention interference hindrance free free_people liberate drag retarding_force puff measurement measuring measure exploitation victimization victimisation release unloose unloosen flight flying flight_of_stairs model theoretical_account framework similar alike like mensuration create induce stimulate low depression Low obstruction blockage block wind air_current current_of_air tunnel burrow',\n",
       " 'solution answer result footing basis ground problem job trouble three 3 III point detail item boundary bound bounds condition status precondition',\n",
       " 'mention reference citation method method_acting stability stableness constancy linear additive one-dimensional derived_function derivative differential_coefficient equation equality equivalence periodic periodical occasional coefficient',\n",
       " 'obtain receive get paper composition report study written_report account incorporate contain comprise daze shock stupor withdrawal detachment disengagement distance length aloofness data information datum',\n",
       " 'work piece_of_work employment flow flowing flow_rate channel transmission_channel groove low depression Low Reynolds Sir_Joshua_Reynolds number figure act',\n",
       " 'approximate come_close estimate analytic analytical heat heat_energy hotness conduction conductivity solution answer result exploitation victimization victimisation method method_acting spot bit chip principle rule precept',\n",
       " 'manner mode style stall stalling procrastinate expect anticipate ask phase stage degree axial axile compressor',\n",
       " 'standard criterion measure establish set_up found determine find find_out axial axile compressor choking strangling strangulation line argumentation logical_argument',\n",
       " \"theory hypothesis possibility quasi conic conical conelike flow flowing flow_rate develop evolve germinate supersonic ultrasonic linearize linearise wash washing lavation distribution statistical_distribution dispersion raise lift elevate surface Earth's_surface open apart isolated obscure homogeneous homogenous function mathematical_function single-valued_function carbon_monoxide carbon_monoxide_gas CO ordinate ordain consecrate permit allow let quite rather quite_a general full_general superior_general functional usable useable form word_form signifier\",\n",
       " 'scale scale_of_measurement graduated_table height tallness acme change alter vary altitude elevation EL atmosphere ambiance ambience',\n",
       " 'jet jet_plane jet-propelled_plane intervention interference hindrance supersonic ultrasonic flow flowing flow_rate theoretical theoretic paper composition report',\n",
       " 'consequence effect outcome lead leading leadership edge border boundary bluntness dullness waver flutter flicker feature characteristic device_characteristic square foursquare second_power platform political_platform political_program double two-base_hit two-bagger wedge wedge_shape cuneus airfoil aerofoil control_surface Mach Ernst_Mach number figure act lupus_erythematosus LE',\n",
       " 'factor component constituent show demo exhibit primary primary_election primary_feather influence act_upon work sonic transonic boom roar roaring strength military_capability military_strength',\n",
       " 'work piece_of_work employment small little minor oscillation vibration cycle entry introduction debut gesture motion movement',\n",
       " 'experimental data-based observational survey study work panel jury venire waver flutter flicker',\n",
       " 'wing offstage backstage body organic_structure physical_structure flow flowing flow_rate field battlefield battleground intervention interference hindrance consequence effect outcome approximate come_close estimate rationally',\n",
       " 'analytically experimentally by_experimentation through_an_experiment investigate look_into inquire consequence effect outcome internal intragroup home pressure pressure_level force_per_unit_area buckle clasp crumple circular handbill bill cylindrical cylindric shell carapace cuticle bending bend deflection',\n",
       " 'theoretical theoretic experimental data-based observational work piece_of_work employment make do perform excitement excitation inflammation response reaction answer typical distinctive structure construction anatomical_structure noise dissonance racket environment environs surroundings',\n",
       " 'design designing plan method method_acting calculate cipher cypher thermal thermic caloric fatigue weariness tiredness endurance survival component constituent element assorted various respective type character eccentric size sizing size_of_it assortment mixture mixed_bag circumstance context setting',\n",
       " 'analysis analytic_thinking psychoanalysis panel jury venire waver flutter flicker establish base ground randomly indiscriminately haphazardly assume presume take_for_granted manner mode style distortion deformation contortion prove turn_out turn_up satisfactory acceptable minimum lower_limit minimal number figure act way fashion modality need demand want see consider reckon',\n",
       " 'standard criterion measure true true_up dead_on_target panel jury venire waver flutter flicker oppose fight fight_back small little minor amplitude bountifulness bounty vibration quiver quivering originate arise rise acoustic acoustical perturbation disturbance upset',\n",
       " 'paper composition report dealing transaction dealings uniformly load lade laden sector sphere',\n",
       " 'general full_general superior_general method method_acting resolution solving solve clamp home_plate home_base home problem job trouble',\n",
       " 'analytic analytical solution answer result buckle clasp crumple strength military_capability military_strength uniform unvarying consistent circular handbill bill cylinder piston_chamber load lade laden axial axile compaction compression concretion polish refine fine-tune lower_berth lower take_down heave warp loading burden cargo',\n",
       " 'problem job trouble buckle clasp crumple strength military_capability military_strength uniform unvarying consistent circular handbill bill cylinder piston_chamber load lade laden axial axile compaction compression concretion linear additive one-dimensional solution answer result aid assist assistance better improve amend not non analogue analog elongate one 1 I',\n",
       " 'problem job trouble similarity law_of_similarity representative spokesperson interpreter probe investigation investigating consequence effect outcome flow flowing flow_rate absence absence_seizure heating warming heating_system result event issue',\n",
       " 'fatigue weariness tiredness damage harm impairment estimate gauge approximate exploitation victimization victimisation convention normal pattern hanker long yearn hand manus mitt method method_acting',\n",
       " 'information info data available uncommitted usable difference deviation divergence consequence effect outcome assorted various respective edge border boundary condition status precondition buckle clasp crumple cylindrical cylindric shell carapace cuticle',\n",
       " 'not non linear additive one-dimensional large big bombastic deflection warp deflexion analysis analytic_thinking psychoanalysis conduct carry_on deal shell carapace cuticle shape form configuration conic conical conelike',\n",
       " 'asymptomatic symptomless method method_acting sufficiently accurate exact precise determination finding purpose buckle clasp crumple stress emphasis accent shell carapace cuticle must mustiness moldiness resort resort_hotel holiday_resort numeric numerical numeral',\n",
       " 'chemical chemical_substance chemic component constituent element syrupy viscous gluey daze shock stupor layer bed level ahead in_the_lead leading blunt numb benumb entry introduction debut vehicle fomite',\n",
       " 'accurate exact precise exist be survive analytic analytical theory hypothesis possibility estimate gauge approximate pressure pressure_level force_per_unit_area distribution statistical_distribution dispersion cone conoid cone_shape incidence relative_incidence speed velocity swiftness',\n",
       " 'simple simpleton elementary empirical empiric method method_acting use usage utilization estimate gauge approximate pressure pressure_level force_per_unit_area distribution statistical_distribution dispersion cone conoid cone_shape',\n",
       " 'syrupy viscous gluey consequence effect outcome seriously earnestly in_earnest modify qualify change pressure pressure_level force_per_unit_area distribution statistical_distribution dispersion',\n",
       " \"investigate look_into inquire theoretically surface Earth's_surface open flexibility flexibleness tractability stabilize stabilise brace laminar laminal boundary bound bounds layer bed level\",\n",
       " 'subsonic waver flutter flicker data information datum measure mensurate measure_out new fresh novel langley Langley Samuel_Pierpoint_Langley moral_force dynamic dynamical tunnel burrow comparison compare equivalence similar alike like data_point obtain receive get facility installation adeptness',\n",
       " 'large big bombastic change alteration modification new fresh novel mass batch deal ratio proportion quantitative affect impact bear_upon wing offstage backstage waver flutter flicker boundary bound bounds',\n",
       " 'consequence effect outcome shape form configuration drag retarding_force puff polar diametric diametrical raise lift elevate spacecraft ballistic_capsule space_vehicle sum sum_of_money amount decrease diminution reduction maximum upper_limit utmost deceleration slowing retardation gettable getable obtainable continuously endlessly ceaselessly change alter vary aerodynamic streamlined flowing coefficient entry introduction debut',\n",
       " 'physical forcible strong-arm significance import implication feature characteristic device_characteristic separate divide disunite laminar laminal disruptive riotous troubled boundary bound bounds layer bed level flow flowing flow_rate',\n",
       " 'analytically investigate look_into inquire stabilize stabilise brace influence act_upon work soft delicate voiced rubber_band elastic_band elastic core nucleus core_group buckle clasp crumple strength military_capability military_strength cylindrical cylindric shell carapace cuticle subject subjugate submit not non uniform unvarying consistent external extraneous outside pressure pressure_level force_per_unit_area',\n",
       " 'paper composition report available uncommitted usable buckle clasp crumple empty discharge vacate cylindrical cylindric shell carapace cuticle not non uniform unvarying consistent pressure pressure_level force_per_unit_area',\n",
       " 'consequence effect outcome thermal thermic caloric stress emphasis accent buckle clasp crumple strength military_capability military_strength ring halo annulus stiffen tighten tighten_up cylinder piston_chamber',\n",
       " 'consequence effect outcome cylinder piston_chamber buckle clasp crumple circumferential stress emphasis accent system scheme system_of_rules change alter vary axial axile direction way guidance',\n",
       " 'not non linear additive one-dimensional shoal shallow shell carapace cuticle analysis analytic_thinking psychoanalysis reduce cut_down cut_back technology engineering engineering_science technique proficiency use usage utilization matrix intercellular_substance ground_substance',\n",
       " 'possible potential predict foretell prognosticate shape form configuration shroud sheet tack let allow permit simulation computer_simulation model nose olfactory_organ nozzle region part area flow flowing flow_rate field battlefield battleground sphere domain orbit rate_of_flow stream current',\n",
       " \"probe investigation investigating make do get wave moving_ridge undulation system scheme system_of_rules create produce static atmospherics atmospheric_static pressure pressure_level force_per_unit_area distribution statistical_distribution dispersion liquid liquidness liquidity surface Earth's_surface open\",\n",
       " 'investigate look_into inquire consequence effect outcome daze shock stupor generate bring_forth render edacity esurience ravenousness heat heat_energy hotness transportation transport transfer blunt numb benumb body organic_structure physical_structure',\n",
       " 'heat heat_energy hotness transportation transport transfer blunt numb benumb body organic_structure physical_structure absence absence_seizure edacity esurience ravenousness',\n",
       " 'general full_general superior_general consequence effect outcome flow flowing flow_rate field battlefield battleground Reynolds Sir_Joshua_Reynolds number figure act small little minor',\n",
       " 'discovery breakthrough find calculation computation computing procedure process operation applicable incompressible laminar laminal boundary bound bounds layer bed level flow flowing flow_rate problem job trouble good goodness commodity accuracy truth reasonable sensible fair figuring reckoning time clip clock_time',\n",
       " 'paper composition report applicable problem job trouble calculation computation computing procedure process operation laminar laminal incompressible flow flowing flow_rate arbitrary pressure pressure_level force_per_unit_area gradient slope',\n",
       " 'investigate look_into inquire shear fleece buckle clasp crumple stiffen tighten tighten_up home_plate home_base home',\n",
       " 'paper composition report shear fleece buckle clasp crumple stiffen tighten tighten_up rectangular orthogonal home_plate home_base home',\n",
       " 'practice pattern exercise stopping_point finale finis world reality realness premise premiss assumption flow flowing flow_rate daze shock stupor tube tubing vacuum_tube exploitation victimization victimisation nitrogen N atomic_number_7 not non syrupy viscous gluey thermodynamic thermodynamical equilibrium chemical_equilibrium balance',\n",
       " 'design designing plan factor component constituent use utilize utilise control control_condition dominance lift aerodynamic_lift elevation drag retarding_force puff ratio proportion Mach Ernst_Mach number figure act']"
      ]
     },
     "execution_count": 32,
     "metadata": {},
     "output_type": "execute_result"
    }
   ],
   "source": [
    "query_df['expanded_query'].to_list()"
   ]
  },
  {
   "cell_type": "markdown",
   "metadata": {},
   "source": [
    "### 4.2 Corpus Formation"
   ]
  },
  {
   "cell_type": "code",
   "execution_count": 33,
   "metadata": {},
   "outputs": [],
   "source": [
    "# Corpus consists of words in documents and expanded query\n",
    "corpus_qe = docs_df['preprocessed'].tolist() + query_df['expanded_query'].tolist()"
   ]
  },
  {
   "cell_type": "markdown",
   "metadata": {},
   "source": [
    "### 4.3 TFIDF Representation"
   ]
  },
  {
   "cell_type": "code",
   "execution_count": 34,
   "metadata": {},
   "outputs": [
    {
     "name": "stdout",
     "output_type": "stream",
     "text": [
      "Total number of docs and queries included are 1625 and Vocabulary size is 6996\n"
     ]
    }
   ],
   "source": [
    "vectorizer = TfidfVectorizer()\n",
    "X = vectorizer.fit_transform(corpus_qe)\n",
    "print(\"Total number of docs and queries included are {} and Vocabulary size is {}\".format(X.shape[0],X.shape[1]))\n",
    "\n",
    "feature_names = vectorizer.get_feature_names()\n",
    "columns = ['Doc_' + str(i) for i in range(1,X.shape[0]+1)]"
   ]
  },
  {
   "cell_type": "code",
   "execution_count": 35,
   "metadata": {},
   "outputs": [],
   "source": [
    "tfidf_df = pd.DataFrame(X.T.todense(), index=feature_names, columns=columns)"
   ]
  },
  {
   "cell_type": "code",
   "execution_count": 36,
   "metadata": {},
   "outputs": [],
   "source": [
    "tf_idf_docs_qe = tfidf_df[columns[:len(docs_df)]].values"
   ]
  },
  {
   "cell_type": "code",
   "execution_count": 37,
   "metadata": {},
   "outputs": [],
   "source": [
    "vec_rep_queries_qe = tfidf_df[columns[len(docs_df):]].values"
   ]
  },
  {
   "cell_type": "markdown",
   "metadata": {},
   "source": [
    "### 4.4 Ranking"
   ]
  },
  {
   "cell_type": "code",
   "execution_count": 38,
   "metadata": {},
   "outputs": [],
   "source": [
    "# Calculate cosine similarity between documents and queries and order accordingly \n",
    "cosine_sim_qe = np.matmul(tf_idf_docs_qe.T, vec_rep_queries_qe)\n",
    "doc_ordered_qe = (np.argsort(cosine_sim_qe,axis=0)+1)[::-1].T.tolist()"
   ]
  },
  {
   "cell_type": "markdown",
   "metadata": {},
   "source": [
    "### 4.5 Evaluation"
   ]
  },
  {
   "cell_type": "code",
   "execution_count": 39,
   "metadata": {},
   "outputs": [
    {
     "name": "stdout",
     "output_type": "stream",
     "text": [
      "Precision, Recall and F-score @ 1 : 0.5911111111111111, 0.1031515245599868, 0.16845866976799032\n",
      "MAP, nDCG @ 1 : 0.5911111111111111, 0.44740740740740736\n",
      "Precision, Recall and F-score @ 2 : 0.5066666666666667, 0.16970195342354336, 0.23867951592765152\n",
      "MAP, nDCG @ 2 : 0.6533333333333333, 0.3643318520677289\n",
      "Precision, Recall and F-score @ 3 : 0.4429629629629628, 0.2138005511346496, 0.26789772918402294\n",
      "MAP, nDCG @ 3 : 0.6644444444444444, 0.3487229045480596\n",
      "Precision, Recall and F-score @ 4 : 0.39444444444444443, 0.2473773116061471, 0.28082584612821765\n",
      "MAP, nDCG @ 4 : 0.6592592592592593, 0.3492592095146503\n",
      "Precision, Recall and F-score @ 5 : 0.35644444444444473, 0.27211501654263504, 0.28422101474966366\n",
      "MAP, nDCG @ 5 : 0.6569012345679011, 0.3485991546826321\n",
      "Precision, Recall and F-score @ 6 : 0.331111111111111, 0.2959169245112096, 0.2878841137792941\n",
      "MAP, nDCG @ 6 : 0.6483456790123457, 0.3520858129438825\n",
      "Precision, Recall and F-score @ 7 : 0.3085714285714291, 0.3197342653899539, 0.28944006580854054\n",
      "MAP, nDCG @ 7 : 0.6427028218694883, 0.3577642401038602\n",
      "Precision, Recall and F-score @ 8 : 0.28944444444444445, 0.3377620973981782, 0.2873402785912551\n",
      "MAP, nDCG @ 8 : 0.6309305114638447, 0.3625337663885723\n",
      "Precision, Recall and F-score @ 9 : 0.27061728395061757, 0.3522041288723259, 0.282318812066517\n",
      "MAP, nDCG @ 9 : 0.6272975686570925, 0.3661147664888877\n",
      "Precision, Recall and F-score @ 10 : 0.253777777777778, 0.36474668897628937, 0.27644305537820696\n",
      "MAP, nDCG @ 10 : 0.6153744324067076, 0.36843600899939305\n"
     ]
    },
    {
     "data": {
      "image/png": "[encoded data removed]",
      "text/plain": [
       "<Figure size 720x360 with 1 Axes>"
      ]
     },
     "metadata": {
      "needs_background": "light"
     },
     "output_type": "display_data"
    }
   ],
   "source": [
    "# Evaluation of Query Expansion model using precision, recall, f-score, MAP, nDCG for top k retrived documents\n",
    "Evaluation_metrics(doc_ordered_qe, query_ids, qrels, title_name = \"Query Expansion\")"
   ]
  },
  {
   "cell_type": "markdown",
   "metadata": {},
   "source": [
    "### 4.5 Observations"
   ]
  },
  {
   "cell_type": "code",
   "execution_count": 40,
   "metadata": {},
   "outputs": [],
   "source": [
    "# Calulating evaluation metrics for each query separately\n",
    "q_precision_qe, q_recall_qe, q_fscore_qe, q_ndcg_qe, q_average_precision_qe = Query_metrics(qrels, \n",
    "                                                                                            doc_ordered_qe,\n",
    "                                                                                            queries,\n",
    "                                                                                            model_name = 'Query Expansion')"
   ]
  },
  {
   "cell_type": "markdown",
   "metadata": {},
   "source": [
    "### 4.6 Comparison of  VSM and Query expansion models "
   ]
  },
  {
   "cell_type": "code",
   "execution_count": 41,
   "metadata": {},
   "outputs": [
    {
     "name": "stdout",
     "output_type": "stream",
     "text": [
      "Precision: t = 2.0582588101567696  p = 0.04014313556210398\n",
      "Recall: t = 1.8700311832126175  p = 0.062131423633149364\n",
      "F-score: t = 2.197970201477703  p = 0.02846212712035956\n",
      "ndcg: t = 1.4633891970976496  p = 0.1440621534808015\n",
      "Average_precison: t = 1.547884535213128  p = 0.12235619238997499\n"
     ]
    }
   ],
   "source": [
    "# T-Test Implementation\n",
    "t,p = ttest_ind(q_precision_vsm, q_precision_qe)\n",
    "print(\"Precision: t = {0}  p = {1}\".format(t,p))\n",
    "\n",
    "t,p = ttest_ind(q_recall_vsm, q_recall_qe)\n",
    "print(\"Recall: t = {0}  p = {1}\".format(t,p))\n",
    "\n",
    "t,p = ttest_ind(q_fscore_vsm, q_fscore_qe)\n",
    "print(\"F-score: t = {0}  p = {1}\".format(t,p))\n",
    "\n",
    "t,p = ttest_ind(q_ndcg_vsm, q_ndcg_qe)\n",
    "print(\"ndcg: t = {0}  p = {1}\".format(t,p))\n",
    "\n",
    "t,p = ttest_ind(q_average_precision_vsm, q_average_precision_qe)\n",
    "print(\"Average_precison: t = {0}  p = {1}\".format(t,p))"
   ]
  },
  {
   "cell_type": "markdown",
   "metadata": {},
   "source": [
    "## 5. BM25\n",
    "BM25 is the improvement of TF-IDF function. It keeps the structure same and refine TF and IDF components. "
   ]
  },
  {
   "cell_type": "markdown",
   "metadata": {},
   "source": [
    "### 5.1 Corpus Formation"
   ]
  },
  {
   "cell_type": "code",
   "execution_count": 42,
   "metadata": {},
   "outputs": [],
   "source": [
    "# Corpus consist of documents only.\n",
    "bm_corpus=docs_df['preprocessed'].to_list()"
   ]
  },
  {
   "cell_type": "markdown",
   "metadata": {},
   "source": [
    "### 5.2 Ranking"
   ]
  },
  {
   "cell_type": "code",
   "execution_count": 43,
   "metadata": {},
   "outputs": [],
   "source": [
    "tokenized_corpus = [doc.split(\" \") for doc in bm_corpus]\n",
    "\n",
    "# Creating the model object\n",
    "bm25 = BM25Okapi(tokenized_corpus)  \n",
    "\n",
    "# Nested list with each element representing list containing scores of document \n",
    "bmscores=[] \n",
    "\n",
    "for i in query_df['preprocessed']:\n",
    "    tokenized_query = i.split(\" \")\n",
    "    bmscores.append(list(bm25.get_scores(tokenized_query))) \n",
    "bmscores=np.array(bmscores)\n",
    "bmscores=np.transpose(bmscores)"
   ]
  },
  {
   "cell_type": "code",
   "execution_count": 44,
   "metadata": {},
   "outputs": [],
   "source": [
    "# Documents are ordered based on cosine similarity\n",
    "sorted_scores =(np.argsort(bmscores,axis=0)+1)[::-1].T.tolist()\n",
    "doc_ordered_bm=np.array(sorted_scores)"
   ]
  },
  {
   "cell_type": "markdown",
   "metadata": {},
   "source": [
    "### 5.3 Evaluation"
   ]
  },
  {
   "cell_type": "code",
   "execution_count": 45,
   "metadata": {},
   "outputs": [
    {
     "name": "stdout",
     "output_type": "stream",
     "text": [
      "Precision, Recall and F-score @ 1 : 0.6666666666666666, 0.11227364573383211, 0.18457056605119726\n",
      "MAP, nDCG @ 1 : 0.6666666666666666, 0.5288888888888889\n",
      "Precision, Recall and F-score @ 2 : 0.58, 0.18658296567000515, 0.26546324293791734\n",
      "MAP, nDCG @ 2 : 0.7222222222222222, 0.4274608833288405\n",
      "Precision, Recall and F-score @ 3 : 0.525925925925926, 0.2468929970454864, 0.31277149695649\n",
      "MAP, nDCG @ 3 : 0.7307407407407408, 0.4068113944867369\n",
      "Precision, Recall and F-score @ 4 : 0.4688888888888889, 0.2892304826431586, 0.33163644604102743\n",
      "MAP, nDCG @ 4 : 0.7343209876543209, 0.403211914769008\n",
      "Precision, Recall and F-score @ 5 : 0.4284444444444448, 0.32624577237683916, 0.34272040165455164\n",
      "MAP, nDCG @ 5 : 0.7218271604938269, 0.4033130798933265\n",
      "Precision, Recall and F-score @ 6 : 0.3903703703703705, 0.3522813271404639, 0.34243688823459506\n",
      "MAP, nDCG @ 6 : 0.7075543209876545, 0.4062647466486921\n",
      "Precision, Recall and F-score @ 7 : 0.3612698412698416, 0.3753417561812851, 0.34063776218943126\n",
      "MAP, nDCG @ 7 : 0.6953776014109343, 0.41037034859838323\n",
      "Precision, Recall and F-score @ 8 : 0.335, 0.3924687645167558, 0.3342324056534073\n",
      "MAP, nDCG @ 8 : 0.6878722852103801, 0.4136640494930683\n",
      "Precision, Recall and F-score @ 9 : 0.31555555555555587, 0.40967796635340853, 0.3300264682262904\n",
      "MAP, nDCG @ 9 : 0.6795709876543208, 0.41808196677731563\n",
      "Precision, Recall and F-score @ 10 : 0.296, 0.4253524264612018, 0.32321410283681457\n",
      "MAP, nDCG @ 10 : 0.6710303078021331, 0.42169046572887015\n"
     ]
    },
    {
     "data": {
      "image/png": "[encoded data removed]",
      "text/plain": [
       "<Figure size 720x360 with 1 Axes>"
      ]
     },
     "metadata": {
      "needs_background": "light"
     },
     "output_type": "display_data"
    }
   ],
   "source": [
    "# Evaluation of BM25 model using precision, recall, f-score, MAP, nDCG for top k retrived documents\n",
    "Evaluation_metrics(doc_ordered_bm, query_ids, qrels, title_name=\"Evaluation Metrics BM25\")"
   ]
  },
  {
   "cell_type": "code",
   "execution_count": 46,
   "metadata": {},
   "outputs": [],
   "source": [
    "# Calulating evaluation metrics for each query separately\n",
    "q_precision_bm, q_recall_bm, q_fscore_bm, q_ndcg_bm, q_average_precision_bm = Query_metrics(qrels,\n",
    "                                                                                            doc_ordered_bm,\n",
    "                                                                                            queries,\n",
    "                                                                                            model_name = 'BM25')"
   ]
  },
  {
   "cell_type": "markdown",
   "metadata": {},
   "source": [
    "### 5.4 Comparison of Unigram VSM and BM25 models "
   ]
  },
  {
   "cell_type": "code",
   "execution_count": 47,
   "metadata": {},
   "outputs": [
    {
     "name": "stdout",
     "output_type": "stream",
     "text": [
      "Precision: t = -0.26738881645078505  p = 0.789292859537087\n",
      "Recall: t = -0.4716212774533498  p = 0.6374267368162272\n",
      "F-score: t = -0.4240099959376972  p = 0.6717620400924287\n",
      "ndcg: t = -0.8464816236757468  p = 0.3977360443796971\n",
      "Average_precison: t = -0.24748601903370138  p = 0.8046454919084713\n"
     ]
    }
   ],
   "source": [
    "# T-Test Implementation\n",
    "t,p = ttest_ind(q_precision_vsm, q_precision_bm)\n",
    "print(\"Precision: t = {0}  p = {1}\".format(t,p))\n",
    "\n",
    "t,p = ttest_ind(q_recall_vsm, q_recall_bm)\n",
    "print(\"Recall: t = {0}  p = {1}\".format(t,p))\n",
    "\n",
    "t,p = ttest_ind(q_fscore_vsm, q_fscore_bm)\n",
    "print(\"F-score: t = {0}  p = {1}\".format(t,p))\n",
    "\n",
    "t,p = ttest_ind(q_ndcg_vsm, q_ndcg_bm)\n",
    "print(\"ndcg: t = {0}  p = {1}\".format(t,p))\n",
    "\n",
    "t,p = ttest_ind(q_average_precision_vsm, q_average_precision_bm)\n",
    "print(\"Average_precison: t = {0}  p = {1}\".format(t,p))"
   ]
  }
 ],
 "metadata": {
  "kernelspec": {
   "display_name": "Python 3",
   "language": "python",
   "name": "python3"
  },
  "language_info": {
   "codemirror_mode": {
    "name": "ipython",
    "version": 3
   },
   "file_extension": ".py",
   "mimetype": "text/x-python",
   "name": "python",
   "nbconvert_exporter": "python",
   "pygments_lexer": "ipython3",
   "version": "3.8.5"
  }
 },
 "nbformat": 4,
 "nbformat_minor": 4
}
